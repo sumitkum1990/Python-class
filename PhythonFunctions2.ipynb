{
 "cells": [
  {
   "cell_type": "code",
   "execution_count": 2,
   "id": "f1e0bec2-52cd-4baf-a2fd-92d1bf968c25",
   "metadata": {},
   "outputs": [],
   "source": [
    "def test(a,b,c,d,e,f,g):\n",
    "    pass"
   ]
  },
  {
   "cell_type": "code",
   "execution_count": 3,
   "id": "ae12fab4-6e29-42f6-a7a2-56fafcd89102",
   "metadata": {},
   "outputs": [
    {
     "ename": "TypeError",
     "evalue": "test() missing 4 required positional arguments: 'd', 'e', 'f', and 'g'",
     "output_type": "error",
     "traceback": [
      "\u001b[0;31m---------------------------------------------------------------------------\u001b[0m",
      "\u001b[0;31mTypeError\u001b[0m                                 Traceback (most recent call last)",
      "Cell \u001b[0;32mIn[3], line 1\u001b[0m\n\u001b[0;32m----> 1\u001b[0m \u001b[43mtest\u001b[49m\u001b[43m(\u001b[49m\u001b[38;5;241;43m1\u001b[39;49m\u001b[43m,\u001b[49m\u001b[38;5;241;43m2\u001b[39;49m\u001b[43m,\u001b[49m\u001b[38;5;241;43m3\u001b[39;49m\u001b[43m)\u001b[49m\n",
      "\u001b[0;31mTypeError\u001b[0m: test() missing 4 required positional arguments: 'd', 'e', 'f', and 'g'"
     ]
    }
   ],
   "source": [
    "test(1,2,3)"
   ]
  },
  {
   "cell_type": "code",
   "execution_count": 4,
   "id": "18ef73e7-79e5-4c07-ac48-585bd9ce25dd",
   "metadata": {},
   "outputs": [],
   "source": [
    "test(1,2,3,4,5,6,7)"
   ]
  },
  {
   "cell_type": "code",
   "execution_count": 5,
   "id": "c26fabc6-64b1-44a1-9c9f-13f71f05cc0d",
   "metadata": {},
   "outputs": [],
   "source": [
    "def test1(*args):\n",
    "    return args"
   ]
  },
  {
   "cell_type": "code",
   "execution_count": 6,
   "id": "5bfe77aa-5922-4eb1-ade5-b2aab6e11da3",
   "metadata": {},
   "outputs": [
    {
     "data": {
      "text/plain": [
       "(2,)"
      ]
     },
     "execution_count": 6,
     "metadata": {},
     "output_type": "execute_result"
    }
   ],
   "source": [
    "test1(2)"
   ]
  },
  {
   "cell_type": "code",
   "execution_count": 8,
   "id": "551516ed-a7e3-411a-b5b1-66903218fc2f",
   "metadata": {},
   "outputs": [
    {
     "data": {
      "text/plain": [
       "(1, 2, 3, 4, 5, 5, 6, 7, 8, 99)"
      ]
     },
     "execution_count": 8,
     "metadata": {},
     "output_type": "execute_result"
    }
   ],
   "source": [
    "test1(1,2,3,4,5,5,6,7,8,99)"
   ]
  },
  {
   "cell_type": "code",
   "execution_count": 10,
   "id": "d7d9500c-a076-4645-98c1-3ed689343755",
   "metadata": {},
   "outputs": [
    {
     "data": {
      "text/plain": [
       "(1, 2, 3, 4, 'Hello', 23.34)"
      ]
     },
     "execution_count": 10,
     "metadata": {},
     "output_type": "execute_result"
    }
   ],
   "source": [
    "test1(1,2,3,4,\"Hello\",23.34)"
   ]
  },
  {
   "cell_type": "code",
   "execution_count": 13,
   "id": "f58e141c-6106-4333-97e9-017927658c85",
   "metadata": {},
   "outputs": [],
   "source": [
    "def test2(*Sumit):\n",
    "    return Sumit"
   ]
  },
  {
   "cell_type": "code",
   "execution_count": 14,
   "id": "310005d1-d528-4c02-bc64-0dc0e203d615",
   "metadata": {},
   "outputs": [
    {
     "data": {
      "text/plain": [
       "(2, 3, 4, 'hi', 56.67)"
      ]
     },
     "execution_count": 14,
     "metadata": {},
     "output_type": "execute_result"
    }
   ],
   "source": [
    "test2(2,3,4,\"hi\",56.67)"
   ]
  },
  {
   "cell_type": "code",
   "execution_count": 16,
   "id": "b46dfcd1-64cd-4f25-bfe1-fd604686b486",
   "metadata": {},
   "outputs": [],
   "source": [
    "def test3(*args ,a ):\n",
    "    return args, a"
   ]
  },
  {
   "cell_type": "code",
   "execution_count": 17,
   "id": "60b539dc-6112-47f6-b47b-e8e1c034dd96",
   "metadata": {},
   "outputs": [
    {
     "data": {
      "text/plain": [
       "((1, 2, 34), 'Sumit')"
      ]
     },
     "execution_count": 17,
     "metadata": {},
     "output_type": "execute_result"
    }
   ],
   "source": [
    "test3(1,2,34, a = \"Sumit\")"
   ]
  },
  {
   "cell_type": "code",
   "execution_count": 23,
   "id": "496cc39c-64eb-4387-9c8f-c8f901f1c5e8",
   "metadata": {},
   "outputs": [],
   "source": [
    "def test4(*args):\n",
    "    l = []\n",
    "    for i in args:\n",
    "        if type(i) == list :\n",
    "            l.append(i)\n",
    "       \n",
    "    return l \n",
    "        "
   ]
  },
  {
   "cell_type": "code",
   "execution_count": 24,
   "id": "eff52773-fe6a-4266-abda-c52afefb1484",
   "metadata": {},
   "outputs": [
    {
     "data": {
      "text/plain": [
       "[[56, 67, 78, 90], [23, 45]]"
      ]
     },
     "execution_count": 24,
     "metadata": {},
     "output_type": "execute_result"
    }
   ],
   "source": [
    "test4(1,2,3,4,[56,67,78,90],(6,5,4,3),\"Sumit\",\"Kumar\",[23,45])"
   ]
  },
  {
   "cell_type": "code",
   "execution_count": 29,
   "id": "ef4a1b14-bc74-4ede-bc83-26b4c6e6a804",
   "metadata": {},
   "outputs": [],
   "source": [
    "def test5(**kwargs):\n",
    "    return kwargs"
   ]
  },
  {
   "cell_type": "code",
   "execution_count": 30,
   "id": "7acd2723-4549-4317-9b6b-24fd57a57928",
   "metadata": {},
   "outputs": [
    {
     "data": {
      "text/plain": [
       "{}"
      ]
     },
     "execution_count": 30,
     "metadata": {},
     "output_type": "execute_result"
    }
   ],
   "source": [
    "test5()"
   ]
  },
  {
   "cell_type": "code",
   "execution_count": 31,
   "id": "414e6f8f-e2ff-4a1f-b41c-1e8a637ea227",
   "metadata": {},
   "outputs": [
    {
     "data": {
      "text/plain": [
       "dict"
      ]
     },
     "execution_count": 31,
     "metadata": {},
     "output_type": "execute_result"
    }
   ],
   "source": [
    "type(test5())"
   ]
  },
  {
   "cell_type": "code",
   "execution_count": 33,
   "id": "606acce9-70e5-4249-b836-173a37d94c1a",
   "metadata": {},
   "outputs": [
    {
     "data": {
      "text/plain": [
       "{'a': 34, 'b': 23, 'c': [1, 2, 3, 4], 'd': ('Sumit', 'Kumar')}"
      ]
     },
     "execution_count": 33,
     "metadata": {},
     "output_type": "execute_result"
    }
   ],
   "source": [
    "test5(a =34, b = 23, c = [1,2,3,4],d = (\"Sumit\", \"Kumar\"))"
   ]
  },
  {
   "cell_type": "code",
   "execution_count": 38,
   "id": "8ab1b357-22ec-45ec-a46e-552edc3d78ac",
   "metadata": {},
   "outputs": [],
   "source": [
    "def test6(**kwargs):\n",
    "    for i in kwargs.keys():\n",
    "        if type(kwargs[i]) == list:\n",
    "            return i , kwargs[i]"
   ]
  },
  {
   "cell_type": "code",
   "execution_count": 39,
   "id": "b7a7a578-1172-4fe0-918a-5409c97f2a32",
   "metadata": {},
   "outputs": [
    {
     "data": {
      "text/plain": [
       "('c', [1, 2, 3, 4])"
      ]
     },
     "execution_count": 39,
     "metadata": {},
     "output_type": "execute_result"
    }
   ],
   "source": [
    "test6(a =34, b = 23, c = [1,2,3,4],d = (\"Sumit\", \"Kumar\"))"
   ]
  },
  {
   "cell_type": "code",
   "execution_count": 42,
   "id": "27ea1da9-b96a-4882-afb5-bea64db036f0",
   "metadata": {},
   "outputs": [],
   "source": [
    "def test7 (*args, **kwargs):\n",
    "    return args, kwargs"
   ]
  },
  {
   "cell_type": "code",
   "execution_count": 43,
   "id": "e325e319-ed64-4ff0-b8e3-ce80937ef6a9",
   "metadata": {},
   "outputs": [
    {
     "data": {
      "text/plain": [
       "((2, 3, 4, 5), {'a': 89, 'b': 87})"
      ]
     },
     "execution_count": 43,
     "metadata": {},
     "output_type": "execute_result"
    }
   ],
   "source": [
    "test7(2,3,4,5, a=89, b=87)"
   ]
  },
  {
   "cell_type": "code",
   "execution_count": null,
   "id": "69cdc3eb-68a9-402b-ac7e-9d24d6424f7b",
   "metadata": {},
   "outputs": [],
   "source": []
  }
 ],
 "metadata": {
  "kernelspec": {
   "display_name": "Python 3 (ipykernel)",
   "language": "python",
   "name": "python3"
  },
  "language_info": {
   "codemirror_mode": {
    "name": "ipython",
    "version": 3
   },
   "file_extension": ".py",
   "mimetype": "text/x-python",
   "name": "python",
   "nbconvert_exporter": "python",
   "pygments_lexer": "ipython3",
   "version": "3.10.8"
  }
 },
 "nbformat": 4,
 "nbformat_minor": 5
}

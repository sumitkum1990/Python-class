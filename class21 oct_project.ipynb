{
 "cells": [
  {
   "cell_type": "code",
   "execution_count": 41,
   "id": "0ef9b251-1135-4aec-a5f3-40a91e76427a",
   "metadata": {},
   "outputs": [],
   "source": [
    "import requests\n",
    "from bs4 import BeautifulSoup\n",
    "from urllib.request import urlopen as uReq\n",
    "import os"
   ]
  },
  {
   "cell_type": "code",
   "execution_count": 66,
   "id": "15eeffbc-50d0-42a2-b8db-d700472d1712",
   "metadata": {
    "tags": []
   },
   "outputs": [],
   "source": [
    "save_dir = \"images1/\"\n",
    "if not os.path.exists(save_dir):\n",
    "    os.makedirs(save_dir)"
   ]
  },
  {
   "cell_type": "code",
   "execution_count": 67,
   "id": "4d7b54d0-ff25-4983-936d-5720d9f40166",
   "metadata": {},
   "outputs": [],
   "source": [
    "query = \"rooftop garden\"\n",
    "response = requests.get(f\"https://www.google.com/search?q={query}&tbm=isch&ved=2ahUKEwjd7Kz6yoaCAxWsmScCHWKTCRAQ2-cCegQIABAA&oq=roof+top+garden&gs_lcp=CgNpbWcQAzIFCAAQgAQyBQgAEIAEMgUIABCABDIFCAAQgAQyBQgAEIAEMgUIABCABDIFCAAQgAQyBQgAEIAEMgUIABCABDIFCAAQgAQ6BwgAEIoFEEM6BggAEAcQHjoICAAQgAQQsQM6CwgAEIAEELEDEIMBOgYIABAIEB5QqAxYyktglE5oBXAAeACAAawGiAH4KpIBDDAuMS4xNC4yLjYtMpgBAKABAaoBC2d3cy13aXotaW1nwAEB&sclient=img&ei=aHkzZd2YIKyznsEP4qamgAE&bih=585&biw=832&hl=en\")"
   ]
  },
  {
   "cell_type": "code",
   "execution_count": 68,
   "id": "33f4df8e-b4e5-4c18-b6ba-1fac5e984d86",
   "metadata": {},
   "outputs": [
    {
     "data": {
      "text/plain": [
       "<Response [200]>"
      ]
     },
     "execution_count": 68,
     "metadata": {},
     "output_type": "execute_result"
    }
   ],
   "source": [
    "response"
   ]
  },
  {
   "cell_type": "code",
   "execution_count": 69,
   "id": "214bb80e-fc2f-4768-bc44-5e4af8cb59a4",
   "metadata": {},
   "outputs": [],
   "source": [
    "soup = BeautifulSoup(response.content,'html.parser')"
   ]
  },
  {
   "cell_type": "code",
   "execution_count": 70,
   "id": "7270877c-214a-415e-83bf-36e738b7a99d",
   "metadata": {},
   "outputs": [
    {
     "data": {
      "text/plain": [
       "<!DOCTYPE html PUBLIC \"-//WAPFORUM//DTD XHTML Mobile 1.0//EN\" \"http://www.wapforum.org/DTD/xhtml-mobile10.dtd\">\n",
       "<html lang=\"en-IN\" xmlns=\"http://www.w3.org/1999/xhtml\"><head><meta content=\"application/xhtml+xml; charset=utf-8\" http-equiv=\"Content-Type\"/><meta content=\"no-cache\" name=\"Cache-Control\"/><title>rooftop garden - Google Search</title><style>a{text-decoration:none;color:inherit}a:hover{text-decoration:underline}a img{border:0}body{font-family:arial,sans-serif;padding:8px;margin:0 auto;max-width:700px;min-width:240px;}.FbhRzb{border-left:thin solid #dadce0;border-right:thin solid #dadce0;border-top:thin solid #dadce0;height:40px;overflow:hidden}.n692Zd{margin-bottom:10px}.cvifge{height:40px;border-spacing:0}.QvGUP{height:40px;padding:0 8px 0 8px;vertical-align:top}.O4cRJf{height:40px;width:100%;padding:0;padding-right:16px}.O1ePr{height:40px;padding:0;vertical-align:top}.kgJEQe{height:36px;width:98px;vertical-align:top;margin-top:4px}.lXLRf{vertical-align:top}.MhzMZd{border:0;vertical-align:middle;font-size:14px;height:40px;padding:0;width:100%;padding-left:16px}.xB0fq{height:40px;border:none;font-size:14px;background-color:#1a73e8;color:#fff;padding:0 16px;margin:0;vertical-align:top;cursor:pointer}.xB0fq:focus{border:1px solid #1a73e8}.M7pB2{border:thin solid #dadce0;margin:0 0 3px 0;font-size:13px;font-weight:500;height:40px}.euZec{width:100%;height:40px;text-align:center;border-spacing:0}table.euZec td{padding:0;width:25%}.QIqI7{display:inline-block;padding-top:4px;font-weight:bold;color:#4285f4}.EY24We{border-bottom:2px solid #4285f4}.CsQyDc{display:inline-block;color:#70757a}.TuS8Ad{font-size:14px}.HddGcc{padding:8px;color:#70757a}.dzp8ae{font-weight:bold;color:#3c4043}.rEM8G{color:#70757a}.bookcf{table-layout:fixed;width:100%;border-spacing:0}.InWNIe{text-align:center}.uZgmoc{border:thin solid #dadce0;color:#70757a;font-size:14px;text-align:center;table-layout:fixed;width:100%}.frGj1b{display:block;padding:12px 0 12px 0;width:100%}.BnJWBc{text-align:center;padding:6px 0 13px 0;height:35px}.e3goi{vertical-align:top;padding:0;height:180px}.GpQGbf{margin:auto;border-collapse:collapse;border-spacing:0;width:100%}</style></head><body><style>.X6ZCif{color:#202124;font-size:11px;line-height:16px;display:inline-block;padding-top:2px;overflow:hidden;padding-bottom:4px;width:100%}.TwVfHd{border-radius:16px;border:thin solid #dadce0;display:inline-block;padding:8px 8px;margin-right:8px;margin-bottom:4px}.yekiAe{background-color:#dadce0}.jjVJ4e{width:100%}.ezO2md{border:thin solid #dadce0;padding:12px 16px 12px 16px;margin-bottom:10px;font-family:arial,sans-serif}.lIMUZd{font-family:arial,sans-serif}.RntSmf{border-spacing:0}.lgD2Tc{width:100%}.SpelHe{text-align:center}.SpelHe{position:relative}.deHqpb{bottom:0;left:0;margin:auto;position:absolute;right:0;top:0}.kCmkOe{position:relative}.ID6Z3b{background-image:url(https://www.gstatic.com/search_trustx/visibility_off_icon_p0-7d897bf44bafe5436baa9009e8716337.png);background-repeat:no-repeat;background-position:center;background-size:20px}.kCmkOe{width:162px;height:140px;line-height:140px;overflow:'hidden';text-align:center}.DS1iW{text-align:center;margin:auto;vertical-align:middle;max-width:162px;max-height:140px}.AlD19d{padding-top:2px;padding-bottom:8px;}.fYyStc{word-break:break-word}.ynsChf{display:block;white-space:nowrap;overflow:hidden;text-overflow:ellipsis}.Fj3V3b{color:#1967d2;font-size:14px;line-height:20px}.FrIlee{color:#202124;font-size:11px;line-height:16px}.F9iS2e{color:#70757a;font-size:11px;line-height:16px}.WMQ2Le{color:#70757a;font-size:12px;line-height:16px}.x3G5ab{color:#202124;font-size:12px;line-height:16px}.fuLhoc{color:#1967d2;font-size:16px;line-height:20px}.epoveb{font-size:24px;line-height:28px;font-weight:400;color:#202124}.dXDvrc{color:#0d652d;font-size:14px;line-height:20px;word-wrap:break-word}.dloBPe{font-weight:bold}.YVIcad{color:#70757a}.JkVVdd{color:#ea4335}.oXZRFd{color:#ea4335}.MQHtg{color:#fbbc04}.pyMRrb{color:#1e8e3e}.EtTZid{color:#1e8e3e}.M3vVJe{color:#1967d2}.qXLe6d{display:block}.NHQNef{font-style:italic}.Cb8Z7c{white-space:pre}a.ZWRArf{text-decoration:none}a .CVA68e:hover{text-decoration:underline}</style><div class=\"n692Zd\"><div class=\"BnJWBc\"><a class=\"lXLRf\" href=\"/?sca_esv=575422878&amp;bih=585&amp;biw=832&amp;hl=en&amp;output=images&amp;ie=UTF-8&amp;tbm=isch&amp;sa=X&amp;ved=0ahUKEwinhtKP7oaCAxVCV2wGHT3nCkIQPAgC\"><img alt=\"Google\" class=\"kgJEQe\" src=\"/images/branding/searchlogo/1x/googlelogo_desk_heirloom_color_150x55dp.gif\"/></a></div><div class=\"FbhRzb\"><form action=\"/search\"><input name=\"sca_esv\" type=\"hidden\" value=\"575422878\"/><input name=\"bih\" type=\"hidden\" value=\"585\"/><input name=\"biw\" type=\"hidden\" value=\"832\"/><input name=\"hl\" type=\"hidden\" value=\"en\"/><input name=\"ie\" type=\"hidden\" value=\"ISO-8859-1\"/><input name=\"tbm\" type=\"hidden\" value=\"isch\"/><input name=\"oq\" type=\"hidden\"/><input name=\"aqs\" type=\"hidden\"/><table class=\"cvifge\"><tr><td class=\"O4cRJf\"><input class=\"MhzMZd\" name=\"q\" type=\"text\" value=\"rooftop garden\"/></td><td class=\"O1ePr\"><input class=\"xB0fq\" type=\"submit\" value=\"Search\"/></td></tr></table></form></div><div class=\"M7pB2\"><table class=\"euZec\"><tbody><tr><td><a class=\"CsQyDc\" href=\"/search?q=rooftop+garden&amp;sca_esv=575422878&amp;bih=585&amp;biw=832&amp;hl=en&amp;ie=UTF-8&amp;source=lnms&amp;sa=X&amp;ved=0ahUKEwinhtKP7oaCAxVCV2wGHT3nCkIQ_AUIBCgA\">ALL</a></td><td class=\"EY24We\"><span class=\"QIqI7\">IMAGES</span></td><td><a class=\"CsQyDc\" href=\"/search?q=rooftop+garden&amp;sca_esv=575422878&amp;bih=585&amp;biw=832&amp;hl=en&amp;ie=UTF-8&amp;tbm=vid&amp;source=lnms&amp;sa=X&amp;ved=0ahUKEwinhtKP7oaCAxVCV2wGHT3nCkIQ_AUIBigC\">VIDEOS</a></td><td><a class=\"CsQyDc\" href=\"/search?q=rooftop+garden&amp;sca_esv=575422878&amp;bih=585&amp;biw=832&amp;hl=en&amp;ie=UTF-8&amp;tbm=nws&amp;source=lnms&amp;sa=X&amp;ved=0ahUKEwinhtKP7oaCAxVCV2wGHT3nCkIQ_AUIBygD\">NEWS</a></td></tr></tbody></table></div></div><div class=\"X6ZCif\"><a class=\"TwVfHd\" href=\"/search?sca_esv=575422878&amp;bih=585&amp;biw=832&amp;hl=en&amp;ie=UTF-8&amp;tbm=isch&amp;q=rooftop+garden&amp;chips=q:rooftop+garden,g_1:house&amp;sa=X&amp;ved=0ahUKEwinhtKP7oaCAxVCV2wGHT3nCkIQ4lYICygA\">house</a><a class=\"TwVfHd\" href=\"/search?sca_esv=575422878&amp;bih=585&amp;biw=832&amp;hl=en&amp;ie=UTF-8&amp;tbm=isch&amp;q=rooftop+garden&amp;chips=q:rooftop+garden,g_1:residential&amp;sa=X&amp;ved=0ahUKEwinhtKP7oaCAxVCV2wGHT3nCkIQ4lYIDCgB\">residential</a><a class=\"TwVfHd\" href=\"/search?sca_esv=575422878&amp;bih=585&amp;biw=832&amp;hl=en&amp;ie=UTF-8&amp;tbm=isch&amp;q=rooftop+garden&amp;chips=q:rooftop+garden,g_1:design&amp;sa=X&amp;ved=0ahUKEwinhtKP7oaCAxVCV2wGHT3nCkIQ4lYIDSgC\">design</a><a class=\"TwVfHd\" href=\"/search?sca_esv=575422878&amp;bih=585&amp;biw=832&amp;hl=en&amp;ie=UTF-8&amp;tbm=isch&amp;q=rooftop+garden&amp;chips=q:rooftop+garden,g_1:terrace&amp;sa=X&amp;ved=0ahUKEwinhtKP7oaCAxVCV2wGHT3nCkIQ4lYIDigD\">terrace</a><a class=\"TwVfHd\" href=\"/search?sca_esv=575422878&amp;bih=585&amp;biw=832&amp;hl=en&amp;ie=UTF-8&amp;tbm=isch&amp;q=rooftop+garden&amp;chips=q:rooftop+garden,g_1:modern&amp;sa=X&amp;ved=0ahUKEwinhtKP7oaCAxVCV2wGHT3nCkIQ4lYIDygE\">modern</a><a class=\"TwVfHd\" href=\"/search?sca_esv=575422878&amp;bih=585&amp;biw=832&amp;hl=en&amp;ie=UTF-8&amp;tbm=isch&amp;q=rooftop+garden&amp;chips=q:rooftop+garden,g_1:city&amp;sa=X&amp;ved=0ahUKEwinhtKP7oaCAxVCV2wGHT3nCkIQ4lYIECgF\">city</a><a class=\"TwVfHd\" href=\"/search?sca_esv=575422878&amp;bih=585&amp;biw=832&amp;hl=en&amp;ie=UTF-8&amp;tbm=isch&amp;q=rooftop+garden&amp;chips=q:rooftop+garden,g_1:apartment&amp;sa=X&amp;ved=0ahUKEwinhtKP7oaCAxVCV2wGHT3nCkIQ4lYIESgG\">apartment</a><a class=\"TwVfHd\" href=\"/search?sca_esv=575422878&amp;bih=585&amp;biw=832&amp;hl=en&amp;ie=UTF-8&amp;tbm=isch&amp;q=rooftop+garden&amp;chips=q:rooftop+garden,g_1:small&amp;sa=X&amp;ved=0ahUKEwinhtKP7oaCAxVCV2wGHT3nCkIQ4lYIEigH\">small</a><a class=\"TwVfHd\" href=\"/search?sca_esv=575422878&amp;bih=585&amp;biw=832&amp;hl=en&amp;ie=UTF-8&amp;tbm=isch&amp;q=rooftop+garden&amp;chips=q:rooftop+garden,g_1:urban&amp;sa=X&amp;ved=0ahUKEwinhtKP7oaCAxVCV2wGHT3nCkIQ4lYIEygI\">urban</a><a class=\"TwVfHd\" href=\"/search?sca_esv=575422878&amp;bih=585&amp;biw=832&amp;hl=en&amp;ie=UTF-8&amp;tbm=isch&amp;q=rooftop+garden&amp;chips=q:rooftop+garden,g_1:architecture&amp;sa=X&amp;ved=0ahUKEwinhtKP7oaCAxVCV2wGHT3nCkIQ4lYIFCgJ\">architecture</a></div><div><table class=\"GpQGbf\"><tr><td align=\"center\" class=\"e3goi\"><div class=\"jjVJ4e\"> <div> <div class=\"lIMUZd\"><div><table class=\"RntSmf\"><tr><td><a href=\"/url?q=https://www.architecturaldigest.com/gallery/rooftop-garden-designs-around-the-world&amp;sa=U&amp;ved=2ahUKEwinhtKP7oaCAxVCV2wGHT3nCkIQqoUBegQIBBAB&amp;usg=AOvVaw1t80FBCztXvSw5Z1HogE0d\"><div class=\"kCmkOe\"><img alt=\"\" class=\"DS1iW\" src=\"https://encrypted-tbn0.gstatic.com/images?q=tbn:ANd9GcRw8P7hPS5dGw-RDDH8VvL9opQNRkKoSIiY8levMyMLpKbaNO8nEDpK6IoIpQ&amp;s\"/></div></a></td></tr><tr><td><a href=\"/url?q=https://www.architecturaldigest.com/gallery/rooftop-garden-designs-around-the-world&amp;sa=U&amp;ved=2ahUKEwinhtKP7oaCAxVCV2wGHT3nCkIQr4kDegQIBBAC&amp;usg=AOvVaw0-HBZ2tLA3pnlN7H7l-0QK\"><div class=\"AlD19d\"> <span class=\"qXLe6d x3G5ab\"> <span class=\"fYyStc\">9 Remarkable Rooftop Garden...</span> </span> <span class=\"qXLe6d F9iS2e\"> <span class=\"fYyStc\">www.architecturaldigest.com...</span> </span> </div></a></td></tr></table></div></div> </div> </div></td><td align=\"center\" class=\"e3goi\"><div class=\"jjVJ4e\"> <div> <div class=\"lIMUZd\"><div><table class=\"RntSmf\"><tr><td><a href=\"/url?q=https://www.rprealtyplus.com/allied/rooftop-gardens-may-soon-be-mandatory-in-mumbais-new-buildings-105197.html&amp;sa=U&amp;ved=2ahUKEwinhtKP7oaCAxVCV2wGHT3nCkIQqoUBegQIExAB&amp;usg=AOvVaw2Yk9DswqR36Ti7bgmzyIo8\"><div class=\"kCmkOe\"><img alt=\"\" class=\"DS1iW\" src=\"https://encrypted-tbn0.gstatic.com/images?q=tbn:ANd9GcQLcXw09D7AVcLhnaDjqA2XhXDGanOIJd-G3-lv1GV04ChezMvXLvhkpU_q-Mc&amp;s\"/></div></a></td></tr><tr><td><a href=\"/url?q=https://www.rprealtyplus.com/allied/rooftop-gardens-may-soon-be-mandatory-in-mumbais-new-buildings-105197.html&amp;sa=U&amp;ved=2ahUKEwinhtKP7oaCAxVCV2wGHT3nCkIQr4kDegQIExAC&amp;usg=AOvVaw2nJHMqLGIyVzxu312IkFgY\"><div class=\"AlD19d\"> <span class=\"qXLe6d x3G5ab\"> <span class=\"fYyStc\">Rooftop Gardens May Soon Be...</span> </span> <span class=\"qXLe6d F9iS2e\"> <span class=\"fYyStc\">www.rprealtyplus.com</span> </span> </div></a></td></tr></table></div></div> </div> </div></td><td align=\"center\" class=\"e3goi\"><div class=\"jjVJ4e\"> <div> <div class=\"lIMUZd\"><div><table class=\"RntSmf\"><tr><td><a href=\"/url?q=https://www.thespruce.com/rooftop-gardening-1403340&amp;sa=U&amp;ved=2ahUKEwinhtKP7oaCAxVCV2wGHT3nCkIQqoUBegQIEhAB&amp;usg=AOvVaw3T6JSwAJrVrnDKx4BkC-wW\"><div class=\"kCmkOe\"><img alt=\"\" class=\"DS1iW\" src=\"https://encrypted-tbn0.gstatic.com/images?q=tbn:ANd9GcQAmDVyiJI4bMCoOGUMruE65aaf3jxV7C6yysaobkBersXzeQF1K-ydr88_gbA&amp;s\"/></div></a></td></tr><tr><td><a href=\"/url?q=https://www.thespruce.com/rooftop-gardening-1403340&amp;sa=U&amp;ved=2ahUKEwinhtKP7oaCAxVCV2wGHT3nCkIQr4kDegQIEhAC&amp;usg=AOvVaw1YU10gUW8UYW640fA5gVFC\"><div class=\"AlD19d\"> <span class=\"qXLe6d x3G5ab\"> <span class=\"fYyStc\">What to Consider Before...</span> </span> <span class=\"qXLe6d F9iS2e\"> <span class=\"fYyStc\">www.thespruce.com</span> </span> </div></a></td></tr></table></div></div> </div> </div></td><td align=\"center\" class=\"e3goi\"><div class=\"jjVJ4e\"> <div> <div class=\"lIMUZd\"><div><table class=\"RntSmf\"><tr><td><a href=\"/url?q=https://www.gardeningknowhow.com/special/urban/creating-your-own-rooftop-garden.htm&amp;sa=U&amp;ved=2ahUKEwinhtKP7oaCAxVCV2wGHT3nCkIQqoUBegQICxAB&amp;usg=AOvVaw0okWu_S9riMxn9QjHs-pyK\"><div class=\"kCmkOe\"><img alt=\"\" class=\"DS1iW\" src=\"https://encrypted-tbn0.gstatic.com/images?q=tbn:ANd9GcS9LUm5_X1y-_lhj-aFykM_GgK7F9k2DQJu_8NNjrJfi391ctFdCv-BMUiiN90&amp;s\"/></div></a></td></tr><tr><td><a href=\"/url?q=https://www.gardeningknowhow.com/special/urban/creating-your-own-rooftop-garden.htm&amp;sa=U&amp;ved=2ahUKEwinhtKP7oaCAxVCV2wGHT3nCkIQr4kDegQICxAC&amp;usg=AOvVaw0_AQAx_aqEO193fsLckx1Z\"><div class=\"AlD19d\"> <span class=\"qXLe6d x3G5ab\"> <span class=\"fYyStc\">Roof Garden Design - How To...</span> </span> <span class=\"qXLe6d F9iS2e\"> <span class=\"fYyStc\">www.gardeningknowhow.com</span> </span> </div></a></td></tr></table></div></div> </div> </div></td></tr><tr><td align=\"center\" class=\"e3goi\"><div class=\"jjVJ4e\"> <div> <div class=\"lIMUZd\"><div><table class=\"RntSmf\"><tr><td><a href=\"/url?q=https://www.weforum.org/agenda/2022/03/rooftop-gardens-heat-cities-study-temperature-climate-warming/&amp;sa=U&amp;ved=2ahUKEwinhtKP7oaCAxVCV2wGHT3nCkIQqoUBegQIDRAB&amp;usg=AOvVaw3UJkxj8po5xcO_WDZkWKEp\"><div class=\"kCmkOe\"><img alt=\"\" class=\"DS1iW\" src=\"https://encrypted-tbn0.gstatic.com/images?q=tbn:ANd9GcSmGV1DIi4mbVnq_Qn8nKblRmTBeobvJW7NX5ZxcizcnxwGRyea1Q1XnRxWfA&amp;s\"/></div></a></td></tr><tr><td><a href=\"/url?q=https://www.weforum.org/agenda/2022/03/rooftop-gardens-heat-cities-study-temperature-climate-warming/&amp;sa=U&amp;ved=2ahUKEwinhtKP7oaCAxVCV2wGHT3nCkIQr4kDegQIDRAC&amp;usg=AOvVaw2yi_-PXt-Ktlj8VKfeMWBq\"><div class=\"AlD19d\"> <span class=\"qXLe6d x3G5ab\"> <span class=\"fYyStc\">Rooftop gardens can help...</span> </span> <span class=\"qXLe6d F9iS2e\"> <span class=\"fYyStc\">www.weforum.org</span> </span> </div></a></td></tr></table></div></div> </div> </div></td><td align=\"center\" class=\"e3goi\"><div class=\"jjVJ4e\"> <div> <div class=\"lIMUZd\"><div><table class=\"RntSmf\"><tr><td><a href=\"/url?q=https://www.gardendesign.com/rooftop/guide.html&amp;sa=U&amp;ved=2ahUKEwinhtKP7oaCAxVCV2wGHT3nCkIQqoUBegQIChAB&amp;usg=AOvVaw278_zPPNLFXuAZ16ZfjuUN\"><div class=\"kCmkOe\"><img alt=\"\" class=\"DS1iW\" src=\"https://encrypted-tbn0.gstatic.com/images?q=tbn:ANd9GcQQKGN6Smkm9IVj3VxTQNbO0vfNxsWfolb2vYERXa-xPxZaUIMe6St-gaaLvw&amp;s\"/></div></a></td></tr><tr><td><a href=\"/url?q=https://www.gardendesign.com/rooftop/guide.html&amp;sa=U&amp;ved=2ahUKEwinhtKP7oaCAxVCV2wGHT3nCkIQr4kDegQIChAC&amp;usg=AOvVaw2HBzxVfbbs4U0ZL3zH9E8M\"><div class=\"AlD19d\"> <span class=\"qXLe6d x3G5ab\"> <span class=\"fYyStc\">Guide to Rooftop Gardens |...</span> </span> <span class=\"qXLe6d F9iS2e\"> <span class=\"fYyStc\">www.gardendesign.com</span> </span> </div></a></td></tr></table></div></div> </div> </div></td><td align=\"center\" class=\"e3goi\"><div class=\"jjVJ4e\"> <div> <div class=\"lIMUZd\"><div><table class=\"RntSmf\"><tr><td><a href=\"/url?q=https://cef-organics.com/rooftop-garden-development/&amp;sa=U&amp;ved=2ahUKEwinhtKP7oaCAxVCV2wGHT3nCkIQqoUBegQIERAB&amp;usg=AOvVaw0cYmD4yGLMJmzso1CGs4pW\"><div class=\"kCmkOe\"><img alt=\"\" class=\"DS1iW\" src=\"https://encrypted-tbn0.gstatic.com/images?q=tbn:ANd9GcTm_ORHsdAKfAAFKoHiHNTs8MHm5O8Xq83ho6JpYilw3FcVGcsBaqcuk2XVfg&amp;s\"/></div></a></td></tr><tr><td><a href=\"/url?q=https://cef-organics.com/rooftop-garden-development/&amp;sa=U&amp;ved=2ahUKEwinhtKP7oaCAxVCV2wGHT3nCkIQr4kDegQIERAC&amp;usg=AOvVaw1TE8QLTyCYgVKOXsNJSyjp\"><div class=\"AlD19d\"> <span class=\"qXLe6d x3G5ab\"> <span class=\"fYyStc\">Rooftop Garden Development...</span> </span> <span class=\"qXLe6d F9iS2e\"> <span class=\"fYyStc\">cef-organics.com</span> </span> </div></a></td></tr></table></div></div> </div> </div></td><td align=\"center\" class=\"e3goi\"><div class=\"jjVJ4e\"> <div> <div class=\"lIMUZd\"><div><table class=\"RntSmf\"><tr><td><a href=\"/url?q=https://gardeningonadime.com/how-to-build-a-rooftop-garden/&amp;sa=U&amp;ved=2ahUKEwinhtKP7oaCAxVCV2wGHT3nCkIQqoUBegQIDxAB&amp;usg=AOvVaw3ckneco5jyyX3ughhOpl22\"><div class=\"kCmkOe\"><img alt=\"\" class=\"DS1iW\" src=\"https://encrypted-tbn0.gstatic.com/images?q=tbn:ANd9GcQ_fv544qhR6UnKptMpndtx8r3FUGC8gJ6iXANIPacVrZ2vgnwy8-2eB-i-TRE&amp;s\"/></div></a></td></tr><tr><td><a href=\"/url?q=https://gardeningonadime.com/how-to-build-a-rooftop-garden/&amp;sa=U&amp;ved=2ahUKEwinhtKP7oaCAxVCV2wGHT3nCkIQr4kDegQIDxAC&amp;usg=AOvVaw00w8wQcOKxlzyLcXPWGch6\"><div class=\"AlD19d\"> <span class=\"qXLe6d x3G5ab\"> <span class=\"fYyStc\">How to build a rooftop...</span> </span> <span class=\"qXLe6d F9iS2e\"> <span class=\"fYyStc\">gardeningonadime.com</span> </span> </div></a></td></tr></table></div></div> </div> </div></td></tr><tr><td align=\"center\" class=\"e3goi\"><div class=\"jjVJ4e\"> <div> <div class=\"lIMUZd\"><div><table class=\"RntSmf\"><tr><td><a href=\"/url?q=https://www.britannica.com/story/the-evergreen-benefits-of-rooftop-gardening&amp;sa=U&amp;ved=2ahUKEwinhtKP7oaCAxVCV2wGHT3nCkIQqoUBegQICRAB&amp;usg=AOvVaw3YlPZgWFJYyllM_C24v3W9\"><div class=\"kCmkOe\"><img alt=\"\" class=\"DS1iW\" src=\"https://encrypted-tbn0.gstatic.com/images?q=tbn:ANd9GcTSJFBj9AFd72s1bGw-fSGxR034gk2f568_n8qxaYIGtoPIE2YEhceqcK-i-Fo&amp;s\"/></div></a></td></tr><tr><td><a href=\"/url?q=https://www.britannica.com/story/the-evergreen-benefits-of-rooftop-gardening&amp;sa=U&amp;ved=2ahUKEwinhtKP7oaCAxVCV2wGHT3nCkIQr4kDegQICRAC&amp;usg=AOvVaw3381L-WhUOqH2293sfCEsY\"><div class=\"AlD19d\"> <span class=\"qXLe6d x3G5ab\"> <span class=\"fYyStc\">The Evergreen Benefits of...</span> </span> <span class=\"qXLe6d F9iS2e\"> <span class=\"fYyStc\">www.britannica.com</span> </span> </div></a></td></tr></table></div></div> </div> </div></td><td align=\"center\" class=\"e3goi\"><div class=\"jjVJ4e\"> <div> <div class=\"lIMUZd\"><div><table class=\"RntSmf\"><tr><td><a href=\"/url?q=https://m.timesofindia.com/city/mumbai/rooftop-gardens-may-soon-be-mandatory-for-all-new-bldgs-in-city-spread-over-2000-sq-m/articleshow/89812194.cms&amp;sa=U&amp;ved=2ahUKEwinhtKP7oaCAxVCV2wGHT3nCkIQqoUBegQIDhAB&amp;usg=AOvVaw3e_KSzkSiTVfupHuY6SAFy\"><div class=\"kCmkOe\"><img alt=\"\" class=\"DS1iW\" src=\"https://encrypted-tbn0.gstatic.com/images?q=tbn:ANd9GcTuinP8AsVWIV9EHtT6W-6jVq3XLXKFlknHb_SW0Fe1QAGc9JfRDPTo4O3pSA&amp;s\"/></div></a></td></tr><tr><td><a href=\"/url?q=https://m.timesofindia.com/city/mumbai/rooftop-gardens-may-soon-be-mandatory-for-all-new-bldgs-in-city-spread-over-2000-sq-m/articleshow/89812194.cms&amp;sa=U&amp;ved=2ahUKEwinhtKP7oaCAxVCV2wGHT3nCkIQr4kDegQIDhAC&amp;usg=AOvVaw0tNZTVgSCtuzp3V6kx1-zn\"><div class=\"AlD19d\"> <span class=\"qXLe6d x3G5ab\"> <span class=\"fYyStc\">Rooftop Gardens May Soon Be...</span> </span> <span class=\"qXLe6d F9iS2e\"> <span class=\"fYyStc\">m.timesofindia.com</span> </span> </div></a></td></tr></table></div></div> </div> </div></td><td align=\"center\" class=\"e3goi\"><div class=\"jjVJ4e\"> <div> <div class=\"lIMUZd\"><div><table class=\"RntSmf\"><tr><td><a href=\"/url?q=https://www.newyorkdecks.com/rooftop-garden-benefits/&amp;sa=U&amp;ved=2ahUKEwinhtKP7oaCAxVCV2wGHT3nCkIQqoUBegQIEBAB&amp;usg=AOvVaw06bU8Kt4ZTBMELGzfjFcI4\"><div class=\"kCmkOe\"><img alt=\"\" class=\"DS1iW\" src=\"https://encrypted-tbn0.gstatic.com/images?q=tbn:ANd9GcR9WAWDwrBh829SsZ80MroPEF21hDjy3-V4HhCA_FNDt60ieHSkwlopMu0LSRU&amp;s\"/></div></a></td></tr><tr><td><a href=\"/url?q=https://www.newyorkdecks.com/rooftop-garden-benefits/&amp;sa=U&amp;ved=2ahUKEwinhtKP7oaCAxVCV2wGHT3nCkIQr4kDegQIEBAC&amp;usg=AOvVaw01ZLFrfE94pKX822o6IcRB\"><div class=\"AlD19d\"> <span class=\"qXLe6d x3G5ab\"> <span class=\"fYyStc\">Rooftop Garden: Definition,...</span> </span> <span class=\"qXLe6d F9iS2e\"> <span class=\"fYyStc\">www.newyorkdecks.com</span> </span> </div></a></td></tr></table></div></div> </div> </div></td><td align=\"center\" class=\"e3goi\"><div class=\"jjVJ4e\"> <div> <div class=\"lIMUZd\"><div><table class=\"RntSmf\"><tr><td><a href=\"/url?q=https://en.wikipedia.org/wiki/Roof_garden&amp;sa=U&amp;ved=2ahUKEwinhtKP7oaCAxVCV2wGHT3nCkIQqoUBegQIDBAB&amp;usg=AOvVaw3O9u1ho3-wdmfiA1-rQhcH\"><div class=\"kCmkOe\"><img alt=\"\" class=\"DS1iW\" src=\"https://encrypted-tbn0.gstatic.com/images?q=tbn:ANd9GcRVYkr8ltYtlK2-xVUTdgyyVZdjm7vWepQJG_4CNYGWzmXqgJe5wXVSMrRZy-M&amp;s\"/></div></a></td></tr><tr><td><a href=\"/url?q=https://en.wikipedia.org/wiki/Roof_garden&amp;sa=U&amp;ved=2ahUKEwinhtKP7oaCAxVCV2wGHT3nCkIQr4kDegQIDBAC&amp;usg=AOvVaw1QFTBjrW5I5EodZ70hGZrP\"><div class=\"AlD19d\"> <span class=\"qXLe6d x3G5ab\"> <span class=\"fYyStc\">Roof garden - Wikipedia</span> </span> <span class=\"qXLe6d F9iS2e\"> <span class=\"fYyStc\">en.wikipedia.org</span> </span> </div></a></td></tr></table></div></div> </div> </div></td></tr><tr><td align=\"center\" class=\"e3goi\"><div class=\"jjVJ4e\"> <div> <div class=\"lIMUZd\"><div><table class=\"RntSmf\"><tr><td><a href=\"/url?q=https://www.gardendesign.com/rooftop/guide.html&amp;sa=U&amp;ved=2ahUKEwinhtKP7oaCAxVCV2wGHT3nCkIQqoUBegQIBRAB&amp;usg=AOvVaw27E4e2lhzdAcgaqVcMAXU0\"><div class=\"kCmkOe\"><img alt=\"\" class=\"DS1iW\" src=\"https://encrypted-tbn0.gstatic.com/images?q=tbn:ANd9GcTrfoXHY4bWi00573eX9PqnVENcOxVVNETRjZXVEYPoEkSGIPle1T0XxWZGkg&amp;s\"/></div></a></td></tr><tr><td><a href=\"/url?q=https://www.gardendesign.com/rooftop/guide.html&amp;sa=U&amp;ved=2ahUKEwinhtKP7oaCAxVCV2wGHT3nCkIQr4kDegQIBRAC&amp;usg=AOvVaw3ncKdgoVXHEAhQiE7BIsy7\"><div class=\"AlD19d\"> <span class=\"qXLe6d x3G5ab\"> <span class=\"fYyStc\">Guide to Rooftop Gardens |...</span> </span> <span class=\"qXLe6d F9iS2e\"> <span class=\"fYyStc\">www.gardendesign.com</span> </span> </div></a></td></tr></table></div></div> </div> </div></td><td align=\"center\" class=\"e3goi\"><div class=\"jjVJ4e\"> <div> <div class=\"lIMUZd\"><div><table class=\"RntSmf\"><tr><td><a href=\"/url?q=https://constrofacilitator.com/rooftop-gardens-may-soon-be-mandatory-for-all-new-buildings-in-mumbai/&amp;sa=U&amp;ved=2ahUKEwinhtKP7oaCAxVCV2wGHT3nCkIQqoUBegQIABAB&amp;usg=AOvVaw2EgGvHCcr50LRj4U7md-mE\"><div class=\"kCmkOe\"><img alt=\"\" class=\"DS1iW\" src=\"https://encrypted-tbn0.gstatic.com/images?q=tbn:ANd9GcTQTCXKhvXTr6PCoKSvMoh7Tb4ZKR6-k789-DL844Vz6gE5W1Kd2v0DiAeyvA&amp;s\"/></div></a></td></tr><tr><td><a href=\"/url?q=https://constrofacilitator.com/rooftop-gardens-may-soon-be-mandatory-for-all-new-buildings-in-mumbai/&amp;sa=U&amp;ved=2ahUKEwinhtKP7oaCAxVCV2wGHT3nCkIQr4kDegQIABAC&amp;usg=AOvVaw3TCMVn0UcvsrdnFU2X6tqj\"><div class=\"AlD19d\"> <span class=\"qXLe6d x3G5ab\"> <span class=\"fYyStc\">Rooftop gardens may soon be...</span> </span> <span class=\"qXLe6d F9iS2e\"> <span class=\"fYyStc\">constrofacilitator.com</span> </span> </div></a></td></tr></table></div></div> </div> </div></td><td align=\"center\" class=\"e3goi\"><div class=\"jjVJ4e\"> <div> <div class=\"lIMUZd\"><div><table class=\"RntSmf\"><tr><td><a href=\"/url?q=https://www.pinterest.com/pin/123778689738393529/&amp;sa=U&amp;ved=2ahUKEwinhtKP7oaCAxVCV2wGHT3nCkIQqoUBegQIAxAB&amp;usg=AOvVaw2LddVuuFkLY9cvABj3ruhb\"><div class=\"kCmkOe\"><img alt=\"\" class=\"DS1iW\" src=\"https://encrypted-tbn0.gstatic.com/images?q=tbn:ANd9GcSDcAg9omDtkoyXwTJjQA8L1k6F1fhc8n5cJYCxMP3vV1Z5OXjwQYgDnSx16g&amp;s\"/></div></a></td></tr><tr><td><a href=\"/url?q=https://www.pinterest.com/pin/123778689738393529/&amp;sa=U&amp;ved=2ahUKEwinhtKP7oaCAxVCV2wGHT3nCkIQr4kDegQIAxAC&amp;usg=AOvVaw1sVIdV_UDJ_maeoKUWISfe\"><div class=\"AlD19d\"> <span class=\"qXLe6d x3G5ab\"> <span class=\"fYyStc\">9 Remarkable Rooftop Garden...</span> </span> <span class=\"qXLe6d F9iS2e\"> <span class=\"fYyStc\">www.pinterest.com</span> </span> </div></a></td></tr></table></div></div> </div> </div></td><td align=\"center\" class=\"e3goi\"><div class=\"jjVJ4e\"> <div> <div class=\"lIMUZd\"><div><table class=\"RntSmf\"><tr><td><a href=\"/url?q=http://www.lifegreensystems.com/services/urban-ecology/rooftop-garden/&amp;sa=U&amp;ved=2ahUKEwinhtKP7oaCAxVCV2wGHT3nCkIQqoUBegQIBhAB&amp;usg=AOvVaw0B96C0PSdIowONqOv1NKf7\"><div class=\"kCmkOe\"><img alt=\"\" class=\"DS1iW\" src=\"https://encrypted-tbn0.gstatic.com/images?q=tbn:ANd9GcSIJJo3FrGRjGPT0EH4s656rgWtCWb5wZ3pCVD5oNd4JR9CItnTPb5mBOzYsQ&amp;s\"/></div></a></td></tr><tr><td><a href=\"/url?q=http://www.lifegreensystems.com/services/urban-ecology/rooftop-garden/&amp;sa=U&amp;ved=2ahUKEwinhtKP7oaCAxVCV2wGHT3nCkIQr4kDegQIBhAC&amp;usg=AOvVaw1kt64GUqU0HI3zLeRgdcqg\"><div class=\"AlD19d\"> <span class=\"qXLe6d x3G5ab\"> <span class=\"fYyStc\">Rooftop Garden |</span> </span> <span class=\"qXLe6d F9iS2e\"> <span class=\"fYyStc\">www.lifegreensystems.com</span> </span> </div></a></td></tr></table></div></div> </div> </div></td></tr><tr><td align=\"center\" class=\"e3goi\"><div class=\"jjVJ4e\"> <div> <div class=\"lIMUZd\"><div><table class=\"RntSmf\"><tr><td><a href=\"/url?q=https://www.castrucciarchitect.com/umbrella-house-rooftop&amp;sa=U&amp;ved=2ahUKEwinhtKP7oaCAxVCV2wGHT3nCkIQqoUBegQIBxAB&amp;usg=AOvVaw3dMlLuCtH04QNqRay57A0F\"><div class=\"kCmkOe\"><img alt=\"\" class=\"DS1iW\" src=\"https://encrypted-tbn0.gstatic.com/images?q=tbn:ANd9GcTLlPL9NXR64Mo15_G5wqoDgHt7J-lYyQsOKG7LdcOnem86ekFBg2qrl5h2IA&amp;s\"/></div></a></td></tr><tr><td><a href=\"/url?q=https://www.castrucciarchitect.com/umbrella-house-rooftop&amp;sa=U&amp;ved=2ahUKEwinhtKP7oaCAxVCV2wGHT3nCkIQr4kDegQIBxAC&amp;usg=AOvVaw1kbdtwHFIjCEOIYUihhpSs\"><div class=\"AlD19d\"> <span class=\"qXLe6d x3G5ab\"> <span class=\"fYyStc\">Paul A. Castrucci...</span> </span> <span class=\"qXLe6d F9iS2e\"> <span class=\"fYyStc\">www.castrucciarchitect.com</span> </span> </div></a></td></tr></table></div></div> </div> </div></td><td align=\"center\" class=\"e3goi\"><div class=\"jjVJ4e\"> <div> <div class=\"lIMUZd\"><div><table class=\"RntSmf\"><tr><td><a href=\"/url?q=https://newsroom.unsw.edu.au/news/art-architecture-design/rooftop-gardens-taking-green-spaces-new-heights&amp;sa=U&amp;ved=2ahUKEwinhtKP7oaCAxVCV2wGHT3nCkIQqoUBegQIAhAB&amp;usg=AOvVaw2hZ2CyaeIyqnoRagYzUQaz\"><div class=\"kCmkOe\"><img alt=\"\" class=\"DS1iW\" src=\"https://encrypted-tbn0.gstatic.com/images?q=tbn:ANd9GcRhIxZMXSizIkhSheZnT0LGyXwux9KIolpiM65DldbvCUcNm_l7DMIGhpa9a8I&amp;s\"/></div></a></td></tr><tr><td><a href=\"/url?q=https://newsroom.unsw.edu.au/news/art-architecture-design/rooftop-gardens-taking-green-spaces-new-heights&amp;sa=U&amp;ved=2ahUKEwinhtKP7oaCAxVCV2wGHT3nCkIQr4kDegQIAhAC&amp;usg=AOvVaw2PCBaCbwRFvXxQbRkMZMI6\"><div class=\"AlD19d\"> <span class=\"qXLe6d x3G5ab\"> <span class=\"fYyStc\">Rooftop gardens: taking...</span> </span> <span class=\"qXLe6d F9iS2e\"> <span class=\"fYyStc\">newsroom.unsw.edu.au</span> </span> </div></a></td></tr></table></div></div> </div> </div></td><td align=\"center\" class=\"e3goi\"><div class=\"jjVJ4e\"> <div> <div class=\"lIMUZd\"><div><table class=\"RntSmf\"><tr><td><a href=\"/url?q=https://eandt.theiet.org/content/articles/2022/10/waste-co2-from-city-buildings-delivers-bumper-harvests-on-rooftop-gardens-study-finds/&amp;sa=U&amp;ved=2ahUKEwinhtKP7oaCAxVCV2wGHT3nCkIQqoUBegQICBAB&amp;usg=AOvVaw3Cbz2PXoekPz8bFUTsxfIz\"><div class=\"kCmkOe\"><img alt=\"\" class=\"DS1iW\" src=\"https://encrypted-tbn0.gstatic.com/images?q=tbn:ANd9GcSTXYvJ2uOQTCH64Eys8a8zsb-uJPKoe0_VyDILM1Iem3cbPRBNHxHylDdNpw&amp;s\"/></div></a></td></tr><tr><td><a href=\"/url?q=https://eandt.theiet.org/content/articles/2022/10/waste-co2-from-city-buildings-delivers-bumper-harvests-on-rooftop-gardens-study-finds/&amp;sa=U&amp;ved=2ahUKEwinhtKP7oaCAxVCV2wGHT3nCkIQr4kDegQICBAC&amp;usg=AOvVaw33WsX9_i3zH5lNVsAiUt9m\"><div class=\"AlD19d\"> <span class=\"qXLe6d x3G5ab\"> <span class=\"fYyStc\">Waste CO2 from city...</span> </span> <span class=\"qXLe6d F9iS2e\"> <span class=\"fYyStc\">eandt.theiet.org</span> </span> </div></a></td></tr></table></div></div> </div> </div></td><td align=\"center\" class=\"e3goi\"><div class=\"jjVJ4e\"> <div> <div class=\"lIMUZd\"><div><table class=\"RntSmf\"><tr><td><a href=\"/url?q=https://www.sfgate.com/shopping/article/How-to-start-a-rooftop-garden-16374801.php&amp;sa=U&amp;ved=2ahUKEwinhtKP7oaCAxVCV2wGHT3nCkIQqoUBegQIARAB&amp;usg=AOvVaw3hzXs1dkcXVsdlkl6Ws87D\"><div class=\"kCmkOe\"><img alt=\"\" class=\"DS1iW\" src=\"https://encrypted-tbn0.gstatic.com/images?q=tbn:ANd9GcQjP8LwKFxSOMSbUOtlxN0OOx5jhxgBW408-iztnUU0iK8I002aASfdXRiKpHE&amp;s\"/></div></a></td></tr><tr><td><a href=\"/url?q=https://www.sfgate.com/shopping/article/How-to-start-a-rooftop-garden-16374801.php&amp;sa=U&amp;ved=2ahUKEwinhtKP7oaCAxVCV2wGHT3nCkIQr4kDegQIARAC&amp;usg=AOvVaw2yf7duCgoQRISbIbZfBcqA\"><div class=\"AlD19d\"> <span class=\"qXLe6d x3G5ab\"> <span class=\"fYyStc\">How to start a rooftop...</span> </span> <span class=\"qXLe6d F9iS2e\"> <span class=\"fYyStc\">www.sfgate.com</span> </span> </div></a></td></tr></table></div></div> </div> </div></td></tr></table></div><table class=\"uZgmoc\"><tbody><td><a class=\"frGj1b\" href=\"/search?q=rooftop+garden&amp;sca_esv=575422878&amp;bih=585&amp;biw=832&amp;hl=en&amp;ie=UTF-8&amp;tbm=isch&amp;ei=SJ4zZafCGcKuseMPvc6rkAQ&amp;start=20&amp;sa=N\">Next &gt;</a></td></tbody></table><br/><div class=\"TuS8Ad\" data-ved=\"0ahUKEwinhtKP7oaCAxVCV2wGHT3nCkIQpyoIUg\"><style>.VYM29{font-weight:bold}</style><div align=\"center\" class=\"HddGcc\"><span class=\"VYM29\">Mumbai, Maharashtra</span><span> - </span><span>From your IP address</span><span> - </span><a href=\"/url?q=https://support.google.com/websearch%3Fp%3Dws_settings_location%26hl%3Den-IN&amp;opi=89978449&amp;sa=U&amp;ved=0ahUKEwinhtKP7oaCAxVCV2wGHT3nCkIQty4IUw&amp;usg=AOvVaw3xZDsVL6RH-N2MQ3qPX-ER\">Learn more</a></div><div align=\"center\"><a class=\"rEM8G\" href=\"/url?q=https://accounts.google.com/ServiceLogin%3Fcontinue%3Dhttps://www.google.com/search%253Fq%253Drooftop%252Bgarden%2526tbm%253Disch%2526ved%253D2ahUKEwjd7Kz6yoaCAxWsmScCHWKTCRAQ2-cCegQIABAA%2526oq%253Droof%252Btop%252Bgarden%2526gs_lcp%253DCgNpbWcQAzIFCAAQgAQyBQgAEIAEMgUIABCABDIFCAAQgAQyBQgAEIAEMgUIABCABDIFCAAQgAQyBQgAEIAEMgUIABCABDIFCAAQgAQ6BwgAEIoFEEM6BggAEAcQHjoICAAQgAQQsQM6CwgAEIAEELEDEIMBOgYIABAIEB5QqAxYyktglE5oBXAAeACAAawGiAH4KpIBDDAuMS4xNC4yLjYtMpgBAKABAaoBC2d3cy13aXotaW1nwAEB%2526sclient%253Dimg%2526ei%253DaHkzZd2YIKyznsEP4qamgAE%2526bih%253D585%2526biw%253D832%2526hl%253Den%26hl%3Den&amp;opi=89978449&amp;sa=U&amp;ved=0ahUKEwinhtKP7oaCAxVCV2wGHT3nCkIQxs8CCFQ&amp;usg=AOvVaw1tv_CukHH5yIU9DB5_WKY0\">Sign in</a></div><div><table class=\"bookcf\"><tbody class=\"InWNIe\"><tr><td><a class=\"rEM8G\" href=\"https://www.google.com/preferences?hl=en&amp;sa=X&amp;ved=0ahUKEwinhtKP7oaCAxVCV2wGHT3nCkIQv5YECFU\">Settings</a></td><td><a class=\"rEM8G\" href=\"https://www.google.com/intl/en_in/policies/privacy/\">Privacy</a></td><td><a class=\"rEM8G\" href=\"https://www.google.com/intl/en_in/policies/terms/\">Terms</a></td></tr></tbody></table></div></div><div> </div></body></html>"
      ]
     },
     "execution_count": 70,
     "metadata": {},
     "output_type": "execute_result"
    }
   ],
   "source": [
    "soup"
   ]
  },
  {
   "cell_type": "code",
   "execution_count": 71,
   "id": "879cc903-6929-41ee-bb5c-2ee49cf3638a",
   "metadata": {},
   "outputs": [],
   "source": [
    "images_tags= soup.find_all(\"img\")"
   ]
  },
  {
   "cell_type": "code",
   "execution_count": 72,
   "id": "6db7ec98-9eaa-44cd-8971-e8c0a6a1290f",
   "metadata": {},
   "outputs": [
    {
     "data": {
      "text/plain": [
       "21"
      ]
     },
     "execution_count": 72,
     "metadata": {},
     "output_type": "execute_result"
    }
   ],
   "source": [
    "len(images_tags)"
   ]
  },
  {
   "cell_type": "code",
   "execution_count": 61,
   "id": "47a3b5a2-d177-4806-9b40-3adec110ea51",
   "metadata": {},
   "outputs": [],
   "source": [
    "del images_tags[0]"
   ]
  },
  {
   "cell_type": "code",
   "execution_count": 62,
   "id": "61873609-d55b-426c-85d9-49ce105dc407",
   "metadata": {},
   "outputs": [
    {
     "data": {
      "text/plain": [
       "[<img alt=\"\" class=\"DS1iW\" src=\"https://encrypted-tbn0.gstatic.com/images?q=tbn:ANd9GcRw8P7hPS5dGw-RDDH8VvL9opQNRkKoSIiY8levMyMLpKbaNO8nEDpK6IoIpQ&amp;s\"/>,\n",
       " <img alt=\"\" class=\"DS1iW\" src=\"https://encrypted-tbn0.gstatic.com/images?q=tbn:ANd9GcQLcXw09D7AVcLhnaDjqA2XhXDGanOIJd-G3-lv1GV04ChezMvXLvhkpU_q-Mc&amp;s\"/>,\n",
       " <img alt=\"\" class=\"DS1iW\" src=\"https://encrypted-tbn0.gstatic.com/images?q=tbn:ANd9GcQAmDVyiJI4bMCoOGUMruE65aaf3jxV7C6yysaobkBersXzeQF1K-ydr88_gbA&amp;s\"/>,\n",
       " <img alt=\"\" class=\"DS1iW\" src=\"https://encrypted-tbn0.gstatic.com/images?q=tbn:ANd9GcS9LUm5_X1y-_lhj-aFykM_GgK7F9k2DQJu_8NNjrJfi391ctFdCv-BMUiiN90&amp;s\"/>,\n",
       " <img alt=\"\" class=\"DS1iW\" src=\"https://encrypted-tbn0.gstatic.com/images?q=tbn:ANd9GcSmGV1DIi4mbVnq_Qn8nKblRmTBeobvJW7NX5ZxcizcnxwGRyea1Q1XnRxWfA&amp;s\"/>,\n",
       " <img alt=\"\" class=\"DS1iW\" src=\"https://encrypted-tbn0.gstatic.com/images?q=tbn:ANd9GcQQKGN6Smkm9IVj3VxTQNbO0vfNxsWfolb2vYERXa-xPxZaUIMe6St-gaaLvw&amp;s\"/>,\n",
       " <img alt=\"\" class=\"DS1iW\" src=\"https://encrypted-tbn0.gstatic.com/images?q=tbn:ANd9GcTm_ORHsdAKfAAFKoHiHNTs8MHm5O8Xq83ho6JpYilw3FcVGcsBaqcuk2XVfg&amp;s\"/>,\n",
       " <img alt=\"\" class=\"DS1iW\" src=\"https://encrypted-tbn0.gstatic.com/images?q=tbn:ANd9GcQ_fv544qhR6UnKptMpndtx8r3FUGC8gJ6iXANIPacVrZ2vgnwy8-2eB-i-TRE&amp;s\"/>,\n",
       " <img alt=\"\" class=\"DS1iW\" src=\"https://encrypted-tbn0.gstatic.com/images?q=tbn:ANd9GcTSJFBj9AFd72s1bGw-fSGxR034gk2f568_n8qxaYIGtoPIE2YEhceqcK-i-Fo&amp;s\"/>,\n",
       " <img alt=\"\" class=\"DS1iW\" src=\"https://encrypted-tbn0.gstatic.com/images?q=tbn:ANd9GcTuinP8AsVWIV9EHtT6W-6jVq3XLXKFlknHb_SW0Fe1QAGc9JfRDPTo4O3pSA&amp;s\"/>,\n",
       " <img alt=\"\" class=\"DS1iW\" src=\"https://encrypted-tbn0.gstatic.com/images?q=tbn:ANd9GcR9WAWDwrBh829SsZ80MroPEF21hDjy3-V4HhCA_FNDt60ieHSkwlopMu0LSRU&amp;s\"/>,\n",
       " <img alt=\"\" class=\"DS1iW\" src=\"https://encrypted-tbn0.gstatic.com/images?q=tbn:ANd9GcRVYkr8ltYtlK2-xVUTdgyyVZdjm7vWepQJG_4CNYGWzmXqgJe5wXVSMrRZy-M&amp;s\"/>,\n",
       " <img alt=\"\" class=\"DS1iW\" src=\"https://encrypted-tbn0.gstatic.com/images?q=tbn:ANd9GcTrfoXHY4bWi00573eX9PqnVENcOxVVNETRjZXVEYPoEkSGIPle1T0XxWZGkg&amp;s\"/>,\n",
       " <img alt=\"\" class=\"DS1iW\" src=\"https://encrypted-tbn0.gstatic.com/images?q=tbn:ANd9GcTQTCXKhvXTr6PCoKSvMoh7Tb4ZKR6-k789-DL844Vz6gE5W1Kd2v0DiAeyvA&amp;s\"/>,\n",
       " <img alt=\"\" class=\"DS1iW\" src=\"https://encrypted-tbn0.gstatic.com/images?q=tbn:ANd9GcSDcAg9omDtkoyXwTJjQA8L1k6F1fhc8n5cJYCxMP3vV1Z5OXjwQYgDnSx16g&amp;s\"/>,\n",
       " <img alt=\"\" class=\"DS1iW\" src=\"https://encrypted-tbn0.gstatic.com/images?q=tbn:ANd9GcSIJJo3FrGRjGPT0EH4s656rgWtCWb5wZ3pCVD5oNd4JR9CItnTPb5mBOzYsQ&amp;s\"/>,\n",
       " <img alt=\"\" class=\"DS1iW\" src=\"https://encrypted-tbn0.gstatic.com/images?q=tbn:ANd9GcTLlPL9NXR64Mo15_G5wqoDgHt7J-lYyQsOKG7LdcOnem86ekFBg2qrl5h2IA&amp;s\"/>,\n",
       " <img alt=\"\" class=\"DS1iW\" src=\"https://encrypted-tbn0.gstatic.com/images?q=tbn:ANd9GcRhIxZMXSizIkhSheZnT0LGyXwux9KIolpiM65DldbvCUcNm_l7DMIGhpa9a8I&amp;s\"/>,\n",
       " <img alt=\"\" class=\"DS1iW\" src=\"https://encrypted-tbn0.gstatic.com/images?q=tbn:ANd9GcSTXYvJ2uOQTCH64Eys8a8zsb-uJPKoe0_VyDILM1Iem3cbPRBNHxHylDdNpw&amp;s\"/>,\n",
       " <img alt=\"\" class=\"DS1iW\" src=\"https://encrypted-tbn0.gstatic.com/images?q=tbn:ANd9GcQjP8LwKFxSOMSbUOtlxN0OOx5jhxgBW408-iztnUU0iK8I002aASfdXRiKpHE&amp;s\"/>]"
      ]
     },
     "execution_count": 62,
     "metadata": {},
     "output_type": "execute_result"
    }
   ],
   "source": [
    "images_tags"
   ]
  },
  {
   "cell_type": "code",
   "execution_count": 63,
   "id": "22964328-6906-4b07-bd97-c364f5d499ca",
   "metadata": {},
   "outputs": [
    {
     "data": {
      "text/plain": [
       "20"
      ]
     },
     "execution_count": 63,
     "metadata": {},
     "output_type": "execute_result"
    }
   ],
   "source": [
    "len(images_tags)"
   ]
  },
  {
   "cell_type": "code",
   "execution_count": 64,
   "id": "379cd8d1-5e8b-4cd8-bac3-e9a81c2224b7",
   "metadata": {},
   "outputs": [],
   "source": [
    "for i in images_tags:\n",
    "    images_url = i['src']\n",
    "    images_data = requests.get(images_url).content\n",
    "    with open(os.path.join(save_dir, f\"{query}_{images_tags.index(i)}.jpg\"), \"wb\") as f:\n",
    "        f.write(images_data)"
   ]
  },
  {
   "cell_type": "code",
   "execution_count": 65,
   "id": "24b65cfc-92b6-4fbe-a1c4-7a06217da8c4",
   "metadata": {},
   "outputs": [
    {
     "data": {
      "text/plain": [
       "'https://encrypted-tbn0.gstatic.com/images?q=tbn:ANd9GcQLcXw09D7AVcLhnaDjqA2XhXDGanOIJd-G3-lv1GV04ChezMvXLvhkpU_q-Mc&s'"
      ]
     },
     "execution_count": 65,
     "metadata": {},
     "output_type": "execute_result"
    }
   ],
   "source": [
    "images_tags[1]['src']"
   ]
  },
  {
   "cell_type": "code",
   "execution_count": 53,
   "id": "fa2f4973-c759-4e29-a8bd-93d5a5364672",
   "metadata": {},
   "outputs": [
    {
     "data": {
      "text/plain": [
       "b'\\xff\\xd8\\xff\\xe0\\x00\\x10JFIF\\x00\\x01\\x01\\x00\\x00\\x01\\x00\\x01\\x00\\x00\\xff\\xdb\\x00\\x84\\x00\\t\\x06\\x07\\x08\\x07\\x06\\t\\x08\\x07\\x08\\n\\n\\t\\x0b\\r\\x16\\x0f\\r\\x0c\\x0c\\r\\x1b\\x14\\x15\\x10\\x16 \\x1d\"\" \\x1d\\x1f\\x1f$(4,$&1\\'\\x1f\\x1f-=-157:::#+?D?8C49:7\\x01\\n\\n\\n\\r\\x0c\\r\\x1a\\x0f\\x0f\\x1a7%\\x1f%77777777777777777777777777777777777777777777777777\\xff\\xc0\\x00\\x11\\x08\\x00Q\\x00\\xa2\\x03\\x01\"\\x00\\x02\\x11\\x01\\x03\\x11\\x01\\xff\\xc4\\x00\\x1b\\x00\\x00\\x01\\x05\\x01\\x01\\x00\\x00\\x00\\x00\\x00\\x00\\x00\\x00\\x00\\x00\\x00\\x04\\x00\\x03\\x05\\x06\\x07\\x02\\x01\\xff\\xc4\\x00=\\x10\\x00\\x02\\x01\\x03\\x03\\x01\\x05\\x05\\x05\\x07\\x02\\x07\\x01\\x00\\x00\\x00\\x01\\x02\\x03\\x00\\x04\\x11\\x05\\x12!1\\x06\\x13AQq\"a\\x81\\x91\\xb1\\x142r\\xa1\\xc1\\x15#3B\\xd1\\xe1\\xf05\\xb2\\x07DRdst\\xf14\\xff\\xc4\\x00\\x19\\x01\\x00\\x03\\x01\\x01\\x01\\x00\\x00\\x00\\x00\\x00\\x00\\x00\\x00\\x00\\x00\\x00\\x02\\x03\\x04\\x00\\x01\\x05\\xff\\xc4\\x00#\\x11\\x00\\x02\\x02\\x02\\x02\\x02\\x02\\x03\\x01\\x00\\x00\\x00\\x00\\x00\\x00\\x00\\x00\\x01\\x02\\x11\\x03!\\x121\\x04Q\\x13A\"a\\x812\\xff\\xda\\x00\\x0c\\x03\\x01\\x00\\x02\\x11\\x03\\x11\\x00?\\x00\\xd0 \\x9eKi\\xc2I\\x1b\\x00\\xcc\\x14\\x1d\\xe0\\xa8\\xf9\\x91\\xef\\xe8\\xb4\\x1d\\xc5\\xd4\\x9bf\\xda\\xe5\\x13\\x18/\\x82\\xbf\\x99\\xe4\\xfc\\x00\\xa2\\xafft\\xbdHb\\x0cv\\xbeN\\xd0\\xc7\\xfd\\xab\\xf55\\x07\\xa9\\xb9\\x8a\\xe5\\xbb\\xd0P\\x07`\\x1b*\\x99\\x19\\xf3bO\\xca\\xa1i\\xf41\\x12\\x91\\x04\\xee\\x15\\xcb\\x80{\\xa5 \\xe7$\\x0c\\xf9u\\xf2\\xa2e\\xb9&>\\xee}\\xeav\\x9eI\\xe4\\xe7\\xc3\\x14%\\xac\\x9f\\xb9\\x8c\\xc4F^\\xdc}\\xe5\\xcf9\\x18\\xc9\\xa7\\xd2\\xe0B@\\x9dT\\xdc\\x1d\\xc5C\\xa9!\\xb9\\xeb\\x91\\xc7\\xc3\\xf2\\x14\\x1d$t&=?c#\\xedfDP\\xa4\\xf8\\x90|i\\xc8l\\x8ae\\x08\\x90\\xa8<Q6\\xd7Q\\xcf\\x08q\\xb4y\\x868 \\xf8\\xd3\\x90\\xcb\\x0c\\xaf\"\\xa3\\xa3\\x15\\xc6B\\xb7N*\\x88\\xc6\\x1a\\x04n+X\\xd1B\\xaa8\\xc0\\xe3\\xd9\\x1d<\\xa9\\x8dJT\\xb5\\x84\\xb4\\x8aH`FH\\x0b\\x8f\\x8d\\x16\\xb2!\\x19\\xda3\\x9ccuG\\xeb\\xdb^\\xc8\\xf0\\x06\\x01\\xe79\\xa2\\x9dq\\xd1\\x97g\\xb6\\x17\\xe5Q\\x11\\x8a`\\x05^A\\xf2\\xf4\\xa9x\\xe5I\\x06T\\xf1\\xf8j\\xb1h\\x19N\\xe5\\xcf\\xf2r=\\rXC\\x1e\\xeb\\x92\\xc3#\\xadlM\\xd1\\xa4\\xb6\\x10\\xc4`\\x1e:\\xf9W\\xbc{\\xa9\\xa1(\\n\\xa0\\x93^\\xac\\xea\\xc7\\x19\\xc1\\xeb\\x83M\\xb0G8\\xf2\\x1f:\\x19\\\\\\xbd\\xe2\\x90\\xa4b6\\xf1\\xf7\\x8a\\xe8\\x9c\\xb8\\x05A\\x04}\\xecW \\xaf\\xda\\xb8\\xdb\\xc4\\x7f\\xadq\\xb3 \\xa0\\x0f\\x9b\\x1f\\x8d/\\x9f\\xca\\x9a\\x0c<\\xc7\\xce\\xba\\xdd\\xe9\\xf3\\xae\\xd9\\x87\\x14r\\xdf\\xd2\\xbd \\xe2\\x9bBI\\xcf\\x18\\xa7w\\x01\\xd4\\x8a\\xcd\\x9c(z\\x96\\x8f\\x1c\\xd7\\xf2]\\xde\\xda^^\\xdc\\xe7\\x1b\\x92\\xdd\\x88P3\\x80\\xa7\\xc0{\\x81\\xc75\\x1fru[ta\\xa7\\xf6vX\\xc7\\xfdo\\x11$\\xfb\\xcdiL\\x84\\x80U\\xf1\\xf0\\xaa\\xeflu\\x89t\\xab\\x0e\\xf2\\xc6HD\\xeaC\\x11 \\xc8\\xc6y\\xe9\\xea>\\x14\\x8c\\x89E]\\x9a\\xe8\\xcf\\xfe\\xd5\\xda\\x16\\xf6\\x96\\xde\\\\\\x1eF \\xfe\\xd4\\xaa\\xe8A\\xc9\\xce\\xdc\\xf8\\xd2\\xa1\\xf8\\xdf\\xb3Y\\xd6\\xab(\\x8en\\xfa\\x15Wi\\xe3\\x0e\\xfb\\x8a\\x90#\\x03\\xa7,88\\xf0\\xc88\\xa1\\xb5\\xb7pVB\\xe5C\\x16*\\x03F\\x01\\x1e^\\xd74]\\xce\\xfc\\xdaI\\xbb\\x04\\xc6Q\\xc1|p3\\xe1\\x83\\xcfN\\xb8\\xf8\\xd3\\xb7\\xa2\\xda\\xea\\xc9\\xd7\\xef8@\\xca6+\\xed\\xc8\\xe0\\xe3\\x9a\\xe3JL;\\x02\\x89g{x\\'X\\xd8\\xe2\\t7nq\\xc1\\x19\\xc6@\\xeb\\xcf\\x95F[O4\\x92E\\xde@\\xcc\\x02\\xe1\\x7fy\\x90\\x07B}\\xc7\\xdf\\xd75%\\x03\\x98,\\xedbV\\x87\\x0f\\xbd\\x0e\\xe1\\xb3>@c\\xa5F\\xe8\\xcf\\x19%\\x8d\\xa8R\\xb8\\x1b\\x83\\xe4\\x8f\\xed\\xee\\xf7\\x0e\\xb4\\xa9+I\\x05d\\xecn\\xd6\\xcf\\x93\\xc9f\\xda\\xc7\\x1f\\x7f\\xaf$t\\x15]\\xd7$\\xb4\\xb17RiW\\xe2\\x0b\\xa6\\n\\xdd\\xda\\x81\\xb4\\x9c6F<\\x0f\\x1f:\\x9f\\t\\xbdK\\x80\\xd8\\x07\\x0b\\xc5R\\xfbY\\xd9\\x8e\\xed\\'\\xb9\\xb2\\xbexnXoU\\x91\\x80W#$\\x8f1\\xebCmk\\xe8\\t\\xdd\\x08v\\xe6[Sh$h\\xf1\\x1c]\\xe4\\xac\\xa9\\xc4\\xa4\\x81\\x8f\\xa9>\\x1d*\\xcd\\xa2Ey~\\xc6\\xefTxJI\\xca\\xc3\\xb8\\x86L\\xfb\\x87\\x1d+\\x14\\x85/\\xee\\x99bHE\\xc4\\xdd\\xe7u\\x1a\\x8eAl\\x9e\\x9e\\x07\\xfb\\xd6\\xad\\xd8\\xa4\\xd6ba&\\xb5\\xa8\\xdb\\xabxC!^\\x9e\\xf1\\xe7\\x91\\xd6\\xbb\\xf1\\xb4\\xc5BM\\xbd\\x93z0\\xb8\\x9bS\\x9d$\\x03\\xec\\xc8\\xa0\\xc69\\x19\\xf0\\xce}\\xc4T\\x96\\xaf\\x15\\xcc\\xb0*[g~\\xf5%U\\xc08\\x07\\'\\xaf\\xa5DH\\xf7\\x84[\\x9bCm\\xdd\\xb3\\xb8|0\\xdc\\xe01\\xe39\\xc0\\x1c\\xfd*#Z\\xd5\\xa7\\x87\\xed\\xca\\xc5\\x161\\x17\\xb0\\xc8\\xe0\\xe1\\xc8\\x1czt\\xa6CQ\\xa2\\x94\\xad\\x92\\xb6Z\\xa4\\xd2\\xbc\\xdd\\xf3a\\x95\\xcfB\\x088\\xcdI\\xda\\xde\"D\\xc4\\xb3\\x0c)\\xdazUS\\xb36\\x93K\\xa6\\xc73\\x18\\x95\\xc9\"B\\xd2(\\xf6\\xbcO^\\x9c\\x8a\\x9a\\x06\\xd8\\xc4\\xf0\\xcf{l\\tC\\x90\\x93\\xaeG\\xe7\\xe9G\\x1b\\xa3d\\xd1\\xdc\\x1d\\xa6\\xcc\\x05P\\xb8M\\x9b\\xb2NX\\x1f\\x11\\x8awB\\xd7N\\xa5\\xa9]&\\\\\\xc9\\x1a\\r\\xea\\xa9\\x9e\\xef\\x9e\\x01\\xff\\x00<+5\\xd4u\\x8f\\xd9\\xf77\\xb6\\xa0\\xf7\\x92\\xccr\\xd2\\xf7\\x85\\xb7\\x11\\xd3\\xa7\\x00t\\xcd_\\xbb\\x04\\x91\\xd9\\xd8\\xf7\\x8fp\\x0b\\\\(vm\\xd8\\'\\x9f\\x10O\\x1cb\\x92\\x94\\xdeEoD\\xf0\\x93l\\xb8\\xa9\\x00\\xf3)\\'\\xc8\\x8a\\xe8\\xc8\\xbbN\\x19zyP\\xbfj\\x80d\\x9b\\xc8\\xc7\\xab\\x8f\\xeb\\\\\\x1b\\xebUR>\\xdf\\x00\\xf5aVt\\x86\\x07E \\xd9\\x9d\\xcb\\x8ehMJ{Sh\\xe2k\\x95\\x80:\\xe3y\\xe0\\xa7\\xbf\\x9ek\\x88\\xb5K\\x05@\\x1bP\\xb5\\x07\\xc8\\xb8\\xa8.\\xd6\\xea:]\\xf6\\x9a\\xf6\\xcb\\xa9\\xdb,\\xb8,\\x8c\\x92\\x0fd\\xe3\\x8c\\xf5\\xe0\\xd2\\xf2K\\xf0fd\\x1d\\xbfk\\xaf\\xe0\\x86]>{\\xa8\\xdd\\xd5\\x8a\\xa4\\x9dO\\x07\\x8ez\\x11P\\x9a\\x9e\\xad\\x06\\xa0\\x90D\\xecZ\\xeey\\xc2\\x12\\xad\\x8e\\xecn\\\\\\x8cx\\xe7\\xf4\\xaa\\\\\\x97\\x13\\xd8\\\\4o*\\xb2\\x06\\xda\\x19NG\\xc2\\xa44w\\x8a\\xfbZ\\xd3\\x80g$\\xdd\\xc5\\x92W\\x1c\\x06\\x1e\\xfa\\x868\\xe5i\\xb7d\\xaaO\\xa3e!I<\\x9aT\\xb2)W\\xa3\\xfd)\\xa1\\x97\\xd4\\xad\\xda6\\x81^<\\xc0=\\xb0$\\xc1L\\xf8\\x9cc\\x1e4:\\xde\\xdb\\xce\\xbd\\xe2\\xb4N\\x17\\xf9\\xb88\\x1e\\xb5\\x8bG\\xda\\x19\\x7fn\\xdfjec\\x91n%c\\xdd\\xb6v\\x00O\\xb1\\x91\\xe2\\x00\\xe3\\x06\\x84\\x9f[\\xbdV\\x9f\\xbbx\\xc8\\xb9\\xf6d\\x02\"\\x10s\\x9e\\x07J\\x04\\x9d\\xf4-M\\xb3l\\xbd\\xd5c\\x82\\xd8\\xcd\\x03+u\\xe5H#\\xa5T\\xb4\\x9db@\\x1a)\\xa49f%_\\xc8\\xd6\\x7f\\x1e\\xadv\\xaa\\xb1#\\x85 \\x00b\\x07\\x00\\xf5\\xe7\\xe9B\\xbc\\xf7\\x967\"\\xe6G \\x1f\\xe4\\x0f\\xbb\\x8f.he\\x07-0\\xe3\\x91t\\xcd>}z\\xe1\\x02\\xd9\\\\\\xcf\\x1c\\x17\\x0cv\\xf7\\xf1\\x82F=<\\xe8\\x1dVK\\xabK\\xa84\\xe5\\x9d\\xa7i\\x18\\x03#.O\\'\\xe7\\xe3Q\\xf2h\\x9a\\xb5\\xd0\\xb4\\xd4 \\x9e\\xdc\\t\\x11\\x1d$\\x0f\\xb8t\\xe0\\xe3\\x15\\xdcZv\\xa9up\\xba\\x89\\xd4\\x90\\x18\\xdd\\xf6\\xb0\\xc9*A \\x9c\\x1e<\\r\\n\\xc5*\\xa6g$@j\\x13Ooq,=\\xd6\\xd9\\x10\\x16\\n8\\xf1<\\xf1\\xef\\xcd@\\xdb\\\\<W \\xcb\\xdeg=:\\x1f\\x86j\\xe9sj`f\\xd5oo\\xa2\\x99$\\x02&\\xde\\x9bx\\'w\\\\\\xf1\\xcd\\x01o\\xd9\\x93\\xae\\xb7\\xed\\x08o\\x15!\\x00\\x82H\\xdf\\x82\\xa7\\x1ds\\xceG?\\x1a|#\\xc7T\\x02\\xa2\\xc9\\xa3jk{oj\\xc4e\\xb7\\x158>\\x83\\xf5\\xe9F\\\\XEv\\x92r\\x14\\x03\\xc8\\x1e5\\x15\\xa24\\x17[m\\xec%\\x89\\x8d\\xbe\\xd9\\x1d\\x93\\x04\\x1d\\xd9\\xe3\\x83\\xc7J\\x99[+\\xd1\\xec\\x89\\xa3\\xda~\\xf7\\xb2ry\\xcf\\x9d/\\x83c\\xe34\\x91\\x19\\x7f4\\xb6\\xfal\\xf0A\\xb0I\\xdeq\\xbd\\xb1\\xbb\\x81\\x8a\\xa0K\\xa8]Ey\\xb8H\\xc2En\\\\\\xb6\\xe3\\x9f<\\xd6\\x81\\xda\\x1b\\x8b}*\\xcd\\xcd\\xe7t\\x0c\\xa0\\x88\\xc6\\xce\\xb8\\x03>~b\\xa1\\xf5>\\xc4\\xdbY[\\x1dB\\xebWU\\xb6b\\xa4\\xe6\\x1c\\x03\\xb8\\xf1\\xce}\\xf4p\\x8b\\xad\\x8b\\xc9\\xf92\\xb7gs$\\xd7q\\x87nKrI\\xad\\'N\\xed^\\x9fo\\xf6kIdoi\\x8a+\\x10\\x02\\xc6\\x07\\x03>\\xb5^\\xec\\xefe,58\\x9e\\xfe\\r@\"C)M\\xa2=\\xca@\\xc1\\xc99\\x15_\\xd4\\xf5->\\re\\x8d\\x8c\\x08\\xf1.\\n\\xbaK\\xc19\\x1c\\xf4\\xe3\\xc6\\xb7\\r\\xda\\x05*\\xe8\\xd5\\xee5\\xfd69e\\x8aK\\x94W\\x8f\\x1b\\x97>u\\xd4\\xb3)\\x1c\\x1a\\xc7\\xef\\xb58SZi\\xd0\\xfd\\xa0+\\xab#\\x192\\x0f\\xc7\\x14\\x7fh{K!\\xbb\\x8cY\\xdc\\x16\\x8c/&9x\\'\\xe1A,rc\\x14\\xbd\\x97\\xeb\\xa9Td\\x93\\x8e*\\xad\\xac^\\x08\\x8e{\\xc26\\x9d\\xd8\\x03\\xc6\\xab\\xba\\xc6\\xbe\\xd70\\xc5\\xdc\\xcd b\\x01u\\xdcx\\xf8\\xe3\\x9a\\xefJt\\xd5\\xdf\\xec\\xf3\\x97@\\x17\\xaa\\xb6H\\xf34\\x99bq\\\\\\xa5\\xd1\\xdast\\x86\\xee.\\x19\\xbb\\xc9# \\x82\\xd9<t\\xf8T\\xb7a\\x1d\\xee;Q\\xa7\\xa6\\xd2\\xab\\xdf\\x97\\xeb\\xe4\\x0b~\\x94\\xc5\\xf7f\\xde\\xd2B\\x12\\xf5dY\\x140\\xca`\\x8e\\xbe\\xfa\\x9e\\xff\\x00\\x87\\x96\\xd2G\\xda[T\\x966(\\xa8\\xe5$\\t\\xec\\x92\\x14\\xf8\\xfch\\xe3<rU\\x17`<2\\x8b\\xda5\\x8f\\x8dyB\\xc9p\\xab#.\\xee\\x84\\x8aT\\xd0\\xac\\xc2\\xec;+\\xa8\\xcd\\x11\\x92\\xe1L\\x10\\xa8,\\x03\\xf0\\xdd<\\x07Q\\xf1\\xc5Y\\xec\\xbb5a\\x1cP\\xcb9\\x96\\xeeM\\xa1\\xb7L\\xd9\\x1d<\\x07O\\x1f\\x1c\\xd3:\\xae\\xb7o\\n\\xa4\\x90\\xdc3\\xf7\\xd1dB\\x0f\\x81\\x1cg\\x1d:\\xf8\\xd4-\\xefh/\\'\\xb6\\x8e\\xde\\t\\x04H\\xaa\\x14\\x94\\xc8c\\xf1\\xf0\\xa8[\\xf2s.\\xf8\\xa2\\x86\\xf0b\\xefl\\x84\\xbc3\\xb5\\xf4\\x8azC+*\\x8fBiJ\\xb2\\\\\\xbedc\\xe8\\x0e\\x05=\\x1c{\\x9b$\\xfb\\xcd\\x1bon\\xaeFj\\xc9\\xe4\\xad\\x9ed\\xe7\\xbb$t\\xddsU\\xb5\\xd3\\xe3\\xb2\\x86h\\xc4Q\\x8c!d\\xcb(\\xf5\\xcds\\x04\\xda\\x94v\\xcfo\\x1d\\xec\\x82\\',YB\\xaf;\\x8eO8\\xcf\\x8d;oh\\xa1s\\xc1>\\x14dQc\\x80?*\\x92~L\\xbe\\x98\\x9el\\x86\\xfd\\x9f4\\xf1\\x88e\\x9ew\\x88c\\x08\\xf2\\x12\\xa3\\xe0h\\x8bk\\x0b\\x8bx\\xda;{\\x9b\\x88\\xa3l\\x92\\xb1\\xca\\xca\\x1b\\xe0*f$\\x18\\xe4c\\xdfED\\x91\\xaa\\xee9\\x18\\xe4\\x9f?*L\\xbc\\xac\\x9e\\xcd\\xca^\\xca\\xe4\\x1as\\xda\\xe4\\xdbK,%\\xba\\x98\\xa4+\\x9f\\x95<~\\xdd\\xd0j\\x17\\xbc\\x7f\\xdc?\\xf5\\xa9\\xb6\\xda\\xecA\\xdb\\x9e\\x9eY5\\xc3B\\xbb\\xcf\\xb2\\xb5\\xc5\\xe4O\\xd9\\xb92\\xbfsi5\\xd8\\x02\\xeai\\xe7\\t\\x9cw\\xb2\\x16\\xc7\\x9e3J{k\\xab\\x98\\x042\\xdd\\\\I\\x08\\xc6#\\x92Ve\\x18\\xe9\\xc18\\xa9\\xde\\xe0\\xedV\\xc1\\xc1\\xcf\\x85pb\\x00d\\x82|0(\\x97\\x91?f\\xe5\"\\xcd\\xd9\\xfb=6m\\re\\x16v\\xe8\\xc3\\xd8\\x9a8\\xd0.\\xe7\\xe9\\xd0y\\xfe\\xb4\\xdcz\\x1e\\x86[\\x0f\\xa3\\xda\\x0c\\x1c\\x00!Rz\\x9f\\x0f\\x81\\xa0t\\x19\\xbe\\xcdy\\xb1\\xff\\x00\\x85/\\x04{\\xfc?:\\xd2\\xb4\\xcbF\\x8a\\xd7d\\xe8\\x8d\\xbc\\xee\\xf5\\xf5\\xab\\xb0\\xcd\\xe4\\x89~)\\xa9B\\xcc\\x93\\xb4]\\x89\\xb7\\x885\\xe6\\x92\\xbd\\xe5\\xb8?\\xbc\\x88r\\xd1{\\xc0\\xeb\\x8f\\xa7\\xa7J\\xcf\\xecx\\x9b\\xa8\\x1f\\x95o\\xb3\\xe8\\xb6\\x92\\x11\\xdd\\x8e\\xe8\\x81\\x8fdq\\xfe\\x7fJ\\xa6v\\x8b\\xb1\\xb3\\xc0\\xcfs\\xa7(\\x950ZH\\xd7\\x83\\xea\\x07\\xe9\\xf2\\xad\\x963[\\x88\\xac\\xd0}\\xc4\\xcc\\xce\\x8b\\x11\\xe2\\xbd\\x8bI6\\xf2\\t \\x91\\xa3q\\xe2\\xa7\\xfc\\xcdN\\x0c\\x11\\xd3\\xe2Er\\xeb\\xb7\\xa1\\xdd\\xe8\\xb5\\'\\xcd\\x90\\x95N~\\xc0\\xeeg\\xbe\\x99W{F\\xce\\xab\\xb7;q\\x9a\\xbd\\xff\\x00\\xc3\\xa9\\xb7i\\xe29$C:\\x97fE<\\x8ex\\xe2\\xa9\\x84( 0\\xfc\\xaaK\\xb3z\\xbd\\xae\\x8d\\xa9\\x99\\xae\\x92^\\xe9\\xe3)\\xde \\xdd\\xb7\\x90s\\x8e\\xb8\\xe2\\xb9\\x18\\xa98\\xafN\\xca\\xb1\\xf9S\\xba\\x93,\\x17\\xfa\\x93\\xa5\\xf5\\xca\\x83\\xc0\\x95\\x80\\xf9\\x9aU\\x03s\\xac\\xd8\\xcbq,\\x82X\\xc8g\\'<s\\x93J\\xab\\xd8\\xdb^\\xcc\\xe2D\\x1b}\\x92wz\\xf1F\\xd9@\\xf7\\x12$1\\x90\\xccF\\x06H\\x14<I\\x93\\x92\\t4dP\\x9c\\x82s\\xe88\\xa6\\xca_B\\'4\\xc7a\\x8d\\x86r\\xa7#\\x82\\x0f\\x06\\x8c\\x81H\\xe81L\\xc4\\xa78\\xdb\\xf9\\xd1@c\\x07o\\xe5R\\xcd\\xd8\\x890\\xa8dU\\xe5\\x86\\x7fZ.9r\\x06\\x14\\xe4\\x8e}\\xd4%\\xba\\xaeC2\\x9a*8\\x99\\xc8\\xc2\\x96\\xc9\\xc0 ~\\\\\\xe6\\xa6\\x92B\\xc2\\xa1\\x90\\xb0\\x04\\x02y\\xc0\\x15\\'\\x1c\\'0\\xc4\\xfd[\\xdb|\\x9e\\x83\\xca\\x99K4\\x8eq\\x07\\xb2\\xc6%\\xdd&\\x1b#\\xe9^\\xbc\\xb2\\x18d\\x91r\\xa6v\\t\\x1e<\\xbf\\xfbS\\xcboA!\\xc1\\x12N# \\x8f\\xdf9<\\x8e\\x14\\n\\xe4\\xc6\\x02duir\\n\\x9f\\n\\xef\\xbdH\\xee\\xc8\\x8d[l0\\xf08\\xc6q\\xd7\\xadpX\\xb4\\x16\\xa9.z\\x93\\xd0\\x8c\\xf3\\xe9\\xf4\\xa1\\xa3\\xa3Dm\\x0cW\\x8cI\\x8cSeI-\\xbdpA\\x1c)\\xe6\\xba\\x96XH\\xbaE\\x07x|\\x85;\\xb8\\x19\\xae\\xbb\\xc8\\x9aq\\x90\\xb8\\x91<\\x06@?\\xa5\\x1a\\xb3\\x83R(\\nT\\x8c\\x91\\xca\\x91\\xc9\\xad?\\xb2\\xfa\\xa0\\xd4\\xf4\\xb8\\xcb6\\xe9\\xa3\\x01\\x1f\\xdf\\xc7\\x07\\xfc\\xf25\\x99\\x19\\xa0D\\x86By\\x07k\\r\\xbdG\\xca\\xa6;-\\xab\\xc5\\xa7j\\xa1\\x0bb)\\x18+{\\xd4\\x9f\\xd0\\xfdMS\\xe3\\xe5\\xe1-\\xf43\\x14\\xb8\\xc8\\xd2\\t\\xc9\\x07\\x04W=\\x01\\xf7s\\x9aN\\xd8$09\\x07>\\xb4\\xd3HI t\\x1f\\x9dz\\xb6\\\\\\x05s\\xa3\\xe9wO\\xba}:\\xd6G\\x03\\x1b\\x9e\\x10p\\t\\xfe\\xe7\\xe6h\\x19\\xb4\\x9d\\x01\\x1b\\xbbk\\x1d=C\\x1c\\x85h\\x90sR\\xce\\xc9\\xb8\\x92\\xd9\\x00u\\x07\\x8f?\\xd6\\xa8\\x1d\\xbb\\xb5\\xd2\\xf59\\xcc\\xb1\\x19#\\xd4R0\\xc0\\xba\\x15YW\\xcb\\x9eO\\x8f\"\\x86]i\\x03%J\\xd2\\x0e\\xd7\\xbb%\\xa1\\xdf\\xfe\\xf6\\xd1m\\xed\\xe5Rx\\x84\\x80\\xae\\x07\\x81\\x03\\xc7\\xdfY\\xcd\\xc5\\xafqw$W6\\xa6\\xd9\\x8e\\xe2\\x9b\\x81#\\x19\\xc8#\\xe4FhW\\xf6d1\\xba2:\\x9c27\\x06\\xba\\xde\\x14c\\xaf\\xc2\\x93\\xf2\\xb5\\xf4L\\xf2~\\x8fO_b\\x00\\x17\\xf9Gs\\xe1^P\\xec\\xb9bC\\xbfZT_1\\xb9\\x81C\\xe1\\xebFx7\\xe14\\xa9P\\xcc\\t\\x04\\xaf\\xf9\\xf9\\xd7)\\xfcf\\xf5\\xafiR\\x18\\x0c\\x94\\x8b\\xf8b\\xa5\\x97\\xef\\xd9z\\x8f\\xad*U.@Pd}o\\xe9\\xa8\\xff\\x00\\xfd\\x1a_\\xaa\\xd2\\xa5S.\\x82;\\x97\\xefj\\x7f\\x1f\\xa8\\xa1\\x9f\\xf8Zw\\xe2\\xaf)Q#\\x1cE\\xfc{\\xdf\\xc2k\\xa3\\xfc;jT\\xa9\\xcc\\xe0\\x04\\xfd\\x1b\\xd4~\\x95\\xd4?y?\\r*TK\\xa3\\x1a\\xae\\x83\\xf7$\\xfc1\\xff\\x00\\xb1h\\xd8\\x7f\\x9f\\xf1~\\xa2\\x95*\\xf5c\\xd1\\xe9.\\x8e?\\xe6#\\xff\\x00\\xc0~\\xa2\\xb3\\xab\\xbf\\xf5+\\x8f\\xfd\\x99\\xbe\\xb4\\xa9WY\\x99Q\\xed\\x07\\xfa\\x97\\xc0\\xfdj)z\\x9fZT\\xa93\\xff\\x00DS\\xed\\x84\\x8e\\x82\\x95*T\\xb1g\\xff\\xd9'"
      ]
     },
     "execution_count": 53,
     "metadata": {},
     "output_type": "execute_result"
    }
   ],
   "source": [
    "#binary   or base64 format of images\n",
    "\n",
    "requests.get(images_tags[1]['src']).content"
   ]
  },
  {
   "cell_type": "code",
   "execution_count": null,
   "id": "4123fb83-6a52-4aac-8741-26d7359f17b7",
   "metadata": {},
   "outputs": [],
   "source": []
  }
 ],
 "metadata": {
  "kernelspec": {
   "display_name": "Python 3 (ipykernel)",
   "language": "python",
   "name": "python3"
  },
  "language_info": {
   "codemirror_mode": {
    "name": "ipython",
    "version": 3
   },
   "file_extension": ".py",
   "mimetype": "text/x-python",
   "name": "python",
   "nbconvert_exporter": "python",
   "pygments_lexer": "ipython3",
   "version": "3.10.8"
  }
 },
 "nbformat": 4,
 "nbformat_minor": 5
}

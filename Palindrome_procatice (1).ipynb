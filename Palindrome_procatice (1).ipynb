{
 "cells": [
  {
   "cell_type": "code",
   "execution_count": 10,
   "id": "bff7f3a5-6d75-4dc6-8f0f-5f35da9e9dcb",
   "metadata": {},
   "outputs": [
    {
     "name": "stdout",
     "output_type": "stream",
     "text": [
      "‘Godfather of AI’ Geoffrey Hinton quits Google and warns over dangers of misinformation\n",
      "\n"
     ]
    }
   ],
   "source": [
    "s1 = \"‘Godfather of AI’ Geoffrey Hinton quits Google and warns over dangers of misinformation\"\n",
    "s2 = slice(-1,len(String),-1)\n",
    "\n",
    "print(s1)\n",
    "\n"
   ]
  },
  {
   "cell_type": "code",
   "execution_count": 11,
   "id": "78cf8be6-a716-4131-91b9-168609aa14a4",
   "metadata": {},
   "outputs": [
    {
     "name": "stdout",
     "output_type": "stream",
     "text": [
      "\n"
     ]
    }
   ],
   "source": [
    "print(s1[s2])"
   ]
  },
  {
   "cell_type": "code",
   "execution_count": 12,
   "id": "5ac2d49f-c590-430c-8c9c-b290d9c51bbf",
   "metadata": {},
   "outputs": [
    {
     "name": "stdout",
     "output_type": "stream",
     "text": [
      "slice(-1, 87, -1)\n"
     ]
    }
   ],
   "source": [
    "print(s2)"
   ]
  },
  {
   "cell_type": "code",
   "execution_count": 14,
   "id": "10104883-6bd1-4b0c-99ec-43d0a6471f55",
   "metadata": {},
   "outputs": [
    {
     "name": "stdout",
     "output_type": "stream",
     "text": [
      "noitamrofnisim fo sregnad revo snraw dna elgooG stiuq notniH yerffoeG ’IA fo rehtafdoG‘\n"
     ]
    }
   ],
   "source": [
    "String = \"‘Godfather of AI’ Geoffrey Hinton quits Google and warns over dangers of misinformation\"\n",
    "s2 = slice(-1,-88,-1)\n",
    "print(String[s2])"
   ]
  },
  {
   "cell_type": "code",
   "execution_count": 15,
   "id": "518fb7d2-87f8-49e0-8093-83d665dae072",
   "metadata": {},
   "outputs": [
    {
     "name": "stdin",
     "output_type": "stream",
     "text": [
      " enter a palindrome srting f\n"
     ]
    }
   ],
   "source": [
    "s1 = str(input(\" enter a palindrome srting\"))"
   ]
  },
  {
   "cell_type": "code",
   "execution_count": 2,
   "id": "79c81382-a50f-40ef-a15b-c25c42d27121",
   "metadata": {},
   "outputs": [
    {
     "name": "stdin",
     "output_type": "stream",
     "text": [
      " enter a palindrome srting hi\n"
     ]
    },
    {
     "name": "stdout",
     "output_type": "stream",
     "text": [
      "\n"
     ]
    }
   ],
   "source": [
    "s1 = str(input(\" enter a palindrome srting\"))\n",
    "s2 = slice(-1,len(s1),-1)\n",
    "print(s1[s2])\n",
    "\n",
    "\n"
   ]
  },
  {
   "cell_type": "code",
   "execution_count": 11,
   "id": "c192227b-efd1-4b48-834e-857fae4bbea2",
   "metadata": {},
   "outputs": [
    {
     "name": "stdout",
     "output_type": "stream",
     "text": [
      "string1 is not equal to string2\n"
     ]
    },
    {
     "name": "stdin",
     "output_type": "stream",
     "text": [
      "Enter any string hello\n"
     ]
    },
    {
     "name": "stdout",
     "output_type": "stream",
     "text": [
      "\n"
     ]
    }
   ],
   "source": [
    "string1 = \"Hello\"\n",
    "string2 = \"World\"\n",
    "\n",
    "# Equal\n",
    "if string1 == string2:\n",
    "    print(\"string1 is equal to string2\")\n",
    "else:\n",
    "    print(\"string1 is not equal to string2\")\n",
    "\n",
    "str1 = input(\"Enter any string\")\n",
    "\n",
    "str2 = slice(-1,len(str1),-1)\n",
    "\n",
    "print(str1[str2])\n",
    "\n",
    "\n"
   ]
  },
  {
   "cell_type": "code",
   "execution_count": 7,
   "id": "5bde5610-b635-4f4f-afd4-4a46e3328568",
   "metadata": {},
   "outputs": [],
   "source": [
    "str3 = str1[str2]\n"
   ]
  },
  {
   "cell_type": "code",
   "execution_count": 8,
   "id": "fa09f555-c390-430d-a305-5b6ece5a3605",
   "metadata": {},
   "outputs": [
    {
     "name": "stdout",
     "output_type": "stream",
     "text": [
      "\n"
     ]
    }
   ],
   "source": [
    "print(str3)"
   ]
  },
  {
   "cell_type": "code",
   "execution_count": 12,
   "id": "edb79c99-8caa-47d2-9444-51baf955e4aa",
   "metadata": {},
   "outputs": [
    {
     "name": "stdout",
     "output_type": "stream",
     "text": [
      "noitamrofnisim fo sregnad revo snraw dna elgooG stiuq notniH yerffoeG ’IA fo rehtafdoG‘\n",
      "‘Godfather of AI’ Geoffrey Hinton quits Google and warns over dangers of misinformation\n"
     ]
    }
   ],
   "source": [
    "String = \"‘Godfather of AI’ Geoffrey Hinton quits Google and warns over dangers of misinformation\"\n",
    "s2 = slice(-1,-88,-1)\n",
    "print(String[s2])\n",
    "print(String)"
   ]
  },
  {
   "cell_type": "code",
   "execution_count": 15,
   "id": "75b97e2a-bfe5-4847-94cb-c9f0c102d167",
   "metadata": {},
   "outputs": [
    {
     "name": "stdout",
     "output_type": "stream",
     "text": [
      "noitamrofnisim fo sregnad revo snraw dna elgooG stiuq notniH yerffoeG ’IA fo rehtafdoG‘\n",
      "‘Godfather of AI’ Geoffrey Hinton quits Google and warns over dangers of misinformation\n",
      "string1 is not equal to string2\n"
     ]
    }
   ],
   "source": [
    "String1 = \"‘Godfather of AI’ Geoffrey Hinton quits Google and warns over dangers of misinformation\"\n",
    "s2 = slice(-1,-88,-1)\n",
    "\n",
    "a = String[s2]\n",
    "print(a)\n",
    "print(String)\n",
    "\n",
    "if String1 == a:\n",
    "    print(\"string1 is equal to string2\")\n",
    "else:\n",
    "    print(\"string1 is not equal to string2\")\n"
   ]
  },
  {
   "cell_type": "code",
   "execution_count": 17,
   "id": "37f262c2-b512-4c8c-a641-94b1eb8c1d4e",
   "metadata": {},
   "outputs": [
    {
     "name": "stdin",
     "output_type": "stream",
     "text": [
      "Enter any string hello\n"
     ]
    },
    {
     "name": "stdout",
     "output_type": "stream",
     "text": [
      "olleh\n",
      "hello\n"
     ]
    }
   ],
   "source": [
    "s1 = str(input(\"Enter any string\"))\n",
    "s2 = slice(-1,-88,-1)\n",
    "\n",
    "a = s1[s2]\n",
    "print(a)\n",
    "print(s1)\n"
   ]
  },
  {
   "cell_type": "code",
   "execution_count": 18,
   "id": "5fa79fe3-b49f-4720-a7fa-b5cf77cd83f5",
   "metadata": {},
   "outputs": [
    {
     "name": "stdin",
     "output_type": "stream",
     "text": [
      "Enter any string hello\n"
     ]
    },
    {
     "name": "stdout",
     "output_type": "stream",
     "text": [
      "olleh\n",
      "hello\n",
      "string1 is not equal to string2\n"
     ]
    }
   ],
   "source": [
    "s1 = str(input(\"Enter any string\"))\n",
    "s2 = slice(-1,-88,-1)\n",
    "\n",
    "a = s1[s2]\n",
    "print(a)\n",
    "print(s1)\n",
    "\n",
    "if s1 == a:\n",
    "    print(\"string1 is equal to string2\")\n",
    "else:\n",
    "    print(\"string1 is not equal to string2\")\n"
   ]
  },
  {
   "cell_type": "code",
   "execution_count": 19,
   "id": "70cb55e6-77c6-4176-9897-1defad84d0c7",
   "metadata": {},
   "outputs": [
    {
     "name": "stdin",
     "output_type": "stream",
     "text": [
      "Enter any string civic\n"
     ]
    },
    {
     "name": "stdout",
     "output_type": "stream",
     "text": [
      "civic\n",
      "civic\n",
      "string1 is equal to string2\n"
     ]
    }
   ],
   "source": [
    "s1 = str(input(\"Enter any string\"))\n",
    "s2 = slice(-1,-88,-1)\n",
    "\n",
    "a = s1[s2]\n",
    "print(a)\n",
    "print(s1)\n",
    "\n",
    "if s1 == a:\n",
    "    print(\"string1 is equal to string2\")\n",
    "else:\n",
    "    print(\"string1 is not equal to string2\")"
   ]
  },
  {
   "cell_type": "code",
   "execution_count": null,
   "id": "68ac4e1b-fc49-477f-965c-68b62bd9b8e2",
   "metadata": {},
   "outputs": [],
   "source": []
  }
 ],
 "metadata": {
  "kernelspec": {
   "display_name": "Python 3 (ipykernel)",
   "language": "python",
   "name": "python3"
  },
  "language_info": {
   "codemirror_mode": {
    "name": "ipython",
    "version": 3
   },
   "file_extension": ".py",
   "mimetype": "text/x-python",
   "name": "python",
   "nbconvert_exporter": "python",
   "pygments_lexer": "ipython3",
   "version": "3.10.8"
  }
 },
 "nbformat": 4,
 "nbformat_minor": 5
}

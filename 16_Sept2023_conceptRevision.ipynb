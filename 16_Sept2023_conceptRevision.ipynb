{
 "cells": [
  {
   "cell_type": "code",
   "execution_count": 2,
   "id": "92f0a67f-8017-47b6-9d0e-e8648deea448",
   "metadata": {},
   "outputs": [],
   "source": [
    "a = 500\n",
    "price =450\n",
    "if price <=500:\n",
    "    pass\n"
   ]
  },
  {
   "cell_type": "code",
   "execution_count": 3,
   "id": "a01fef14-0d0b-4039-8c4b-d0d40c2cfff0",
   "metadata": {},
   "outputs": [
    {
     "data": {
      "text/plain": [
       "False"
      ]
     },
     "execution_count": 3,
     "metadata": {},
     "output_type": "execute_result"
    }
   ],
   "source": [
    "price >500"
   ]
  },
  {
   "cell_type": "code",
   "execution_count": 4,
   "id": "88614282-8536-4131-9b04-032ed029d82d",
   "metadata": {},
   "outputs": [
    {
     "name": "stdout",
     "output_type": "stream",
     "text": [
      "Buy shirt\n"
     ]
    }
   ],
   "source": [
    "a = 500\n",
    "shirt_price = 200\n",
    "pant_price = 500\n",
    "coat_price = 800\n",
    "\n",
    "if coat_price <= a :\n",
    "    print(\"Buy coat\")\n",
    "elif pant_price < 500:\n",
    "    print(\"Buy pant\")\n",
    "elif shirt_price < 500:\n",
    "    print(\"Buy shirt\")\n",
    "else:\n",
    "    print(\"Not buy\")"
   ]
  },
  {
   "cell_type": "code",
   "execution_count": 6,
   "id": "5d009496-16b5-44f3-a4ee-e7f0e8f8d18b",
   "metadata": {},
   "outputs": [
    {
     "name": "stdout",
     "output_type": "stream",
     "text": [
      "yes, in my budget\n"
     ]
    }
   ],
   "source": [
    "a = 500\n",
    "shirt_price = 200\n",
    "pant_price = 500\n",
    "coat_price = 800\n",
    "my_size = 'M'\n",
    "size_store = 'L'\n",
    "\n",
    "if coat_price <= a :\n",
    "    print(\"Buy coat\")\n",
    "elif pant_price < 500:\n",
    "    print(\"Buy pant\")\n",
    "elif shirt_price < 500:\n",
    "    print(\"yes, in my budget\")# only first correct condition execute\n",
    "    if my_size == size_store:\n",
    "        print(\"Buy shirt\")\n",
    "else:\n",
    "    print(\"Not buy\")"
   ]
  },
  {
   "cell_type": "code",
   "execution_count": 7,
   "id": "ef60be2d-443d-4267-85d0-b9a57175c5f9",
   "metadata": {},
   "outputs": [
    {
     "name": "stdout",
     "output_type": "stream",
     "text": [
      "yes, in my budget\n",
      "Buy shirt\n"
     ]
    }
   ],
   "source": [
    "a = 500\n",
    "shirt_price = 200\n",
    "pant_price = 500\n",
    "coat_price = 800\n",
    "my_size = 'M'\n",
    "size_store = ['L','M','S','XXL','XXXL']\n",
    "\n",
    "if coat_price <= a :\n",
    "    print(\"Buy coat\")\n",
    "elif pant_price < 500:\n",
    "    print(\"Buy pant\")\n",
    "elif shirt_price < 500:\n",
    "    print(\"yes, in my budget\")# only first correct condition execute\n",
    "    if my_size in size_store:\n",
    "        print(\"Buy shirt\")\n",
    "    else:\n",
    "        print(\"My size is not available\")\n",
    "else:\n",
    "    print(\"Not buy\")"
   ]
  },
  {
   "cell_type": "code",
   "execution_count": 8,
   "id": "0c044866-1c3e-43b8-b2e4-afed53178b2e",
   "metadata": {},
   "outputs": [
    {
     "name": "stdout",
     "output_type": "stream",
     "text": [
      "yes, in my budget\n",
      "mysize is not available\n",
      "Buy shirt\n"
     ]
    }
   ],
   "source": [
    "a = 500\n",
    "shirt_price = 200\n",
    "pant_price = 500\n",
    "coat_price = 800\n",
    "my_size = 'M'\n",
    "size_store = ['L','M','S','XXL','XXXL']\n",
    "my_fav_colour = 'white'\n",
    "store_colour = ['White' , 'red', 'blue', 'orange']\n",
    "\n",
    "if coat_price <= a :\n",
    "    print(\"Buy coat\")\n",
    "elif pant_price < 500:\n",
    "    print(\"Buy pant\")\n",
    "elif shirt_price < 500:\n",
    "    print(\"yes, in my budget\")# only first correct condition execute\n",
    "    if my_fav_colour in store_colour:\n",
    "        print(\"yes, I will try to chosse\")\n",
    "    else:\n",
    "        print(\"mysize is not available\")\n",
    "    \n",
    "    if my_size in size_store:\n",
    "        print(\"Buy shirt\")\n",
    "    else:\n",
    "        print(\"My size is not available\")\n",
    "else:\n",
    "    print(\"Not buy\")"
   ]
  },
  {
   "cell_type": "code",
   "execution_count": 10,
   "id": "8d08c523-778d-4639-9380-aae70b24528a",
   "metadata": {},
   "outputs": [
    {
     "name": "stdout",
     "output_type": "stream",
     "text": [
      "yes, I am doing this course\n"
     ]
    }
   ],
   "source": [
    "course = ['DSM' , 'DSA', 'Big Data', 'DA']\n",
    "price = 20000\n",
    "mentor = \"Sumit Kumar\"\n",
    "if 'DSM' in course and price == 20000 and \"Sumit Kumar\" == mentor:\n",
    "    print(\"yes, I am doing this course\")"
   ]
  },
  {
   "cell_type": "code",
   "execution_count": 11,
   "id": "9866ad9e-493a-42b9-9f2d-fb1c8d2d5a0d",
   "metadata": {},
   "outputs": [],
   "source": [
    "course = ['DSM' , 'DSA', 'Big Data', 'DA']\n",
    "price = 20000\n",
    "mentor = \"Sumit Kumar\"\n",
    "if 'DSM' in course and price == 10000 and \"Sumit Kumar\" == mentor:\n",
    "    print(\"yes, I am doing this course\")"
   ]
  },
  {
   "cell_type": "code",
   "execution_count": 14,
   "id": "9dc9b378-085a-4ed5-ba71-0457bad4ac0d",
   "metadata": {},
   "outputs": [
    {
     "name": "stdout",
     "output_type": "stream",
     "text": [
      "out of range\n"
     ]
    }
   ],
   "source": [
    "course_price = 20000\n",
    "\n",
    "if 10000 <= course_price <= 15000:\n",
    "    print (\"I will buy course\")\n",
    "else:\n",
    "    print(\"out of range\")"
   ]
  },
  {
   "cell_type": "code",
   "execution_count": 16,
   "id": "81d79e86-d03f-4720-8e4d-7b09ad864c2e",
   "metadata": {},
   "outputs": [
    {
     "name": "stdin",
     "output_type": "stream",
     "text": [
      "enter your username lksjlksald\n"
     ]
    },
    {
     "name": "stdout",
     "output_type": "stream",
     "text": [
      "invalid credentials\n"
     ]
    }
   ],
   "source": [
    "user_name = \"Sumit\"\n",
    "password = 'Sumit@1234'\n",
    "\n",
    "if user_name == input(\"enter your username\") and password == input(\"enter your password\"):\n",
    "    print(\"Successful login\")\n",
    "else:\n",
    "    print(\"invalid credentials\")"
   ]
  },
  {
   "cell_type": "code",
   "execution_count": 17,
   "id": "802f0007-ca1c-40a0-98f0-aef06af34732",
   "metadata": {},
   "outputs": [
    {
     "name": "stdin",
     "output_type": "stream",
     "text": [
      "enter your username sumit\n"
     ]
    },
    {
     "name": "stdout",
     "output_type": "stream",
     "text": [
      "invalid credentials\n"
     ]
    }
   ],
   "source": [
    "user_name = \"Sumit\"\n",
    "password = 'Sumit@1234'\n",
    "\n",
    "if user_name == input(\"enter your username\") and password == input(\"enter your password\"):\n",
    "    print(\"Successful login\")\n",
    "else:\n",
    "    print(\"invalid credentials\")"
   ]
  },
  {
   "cell_type": "code",
   "execution_count": 18,
   "id": "4bb1532b-50c5-4e64-afee-6f205cdd9448",
   "metadata": {},
   "outputs": [
    {
     "name": "stdin",
     "output_type": "stream",
     "text": [
      "enter your username Sumit\n",
      "enter your password Sumit@1234\n"
     ]
    },
    {
     "name": "stdout",
     "output_type": "stream",
     "text": [
      "Successful login\n"
     ]
    }
   ],
   "source": [
    "user_name = \"Sumit\"\n",
    "password = 'Sumit@1234'\n",
    "\n",
    "if user_name == input(\"enter your username\") and password == input(\"enter your password\"):\n",
    "    print(\"Successful login\")\n",
    "else:\n",
    "    print(\"invalid credentials\")"
   ]
  },
  {
   "cell_type": "code",
   "execution_count": 19,
   "id": "c8b30287-cf7b-4ba5-b6cc-8bf2d6c712cb",
   "metadata": {},
   "outputs": [
    {
     "name": "stdin",
     "output_type": "stream",
     "text": [
      "enter your username Sumit\n"
     ]
    },
    {
     "name": "stdout",
     "output_type": "stream",
     "text": [
      "Successful login\n"
     ]
    }
   ],
   "source": [
    "user_name = \"Sumit\"\n",
    "password = 'Sumit@1234'\n",
    "\n",
    "if user_name == input(\"enter your username\") or password == input(\"enter your password\"):\n",
    "    print(\"Successful login\")\n",
    "else:\n",
    "    print(\"invalid credentials\")"
   ]
  },
  {
   "cell_type": "code",
   "execution_count": 20,
   "id": "c62962ef-1c71-45e6-920f-25fb804d3d5b",
   "metadata": {},
   "outputs": [
    {
     "name": "stdin",
     "output_type": "stream",
     "text": [
      "enter your username lsjlksajd\n",
      "enter your password Sumit@1234\n"
     ]
    },
    {
     "name": "stdout",
     "output_type": "stream",
     "text": [
      "Successful login\n"
     ]
    }
   ],
   "source": [
    "user_name = \"Sumit\"\n",
    "password = 'Sumit@1234'\n",
    "\n",
    "if user_name == input(\"enter your username\") or password == input(\"enter your password\"):\n",
    "    print(\"Successful login\")\n",
    "else:\n",
    "    print(\"invalid credentials\")"
   ]
  },
  {
   "cell_type": "code",
   "execution_count": 22,
   "id": "557e55ed-5936-4c18-836c-62f448a2ab64",
   "metadata": {},
   "outputs": [
    {
     "name": "stdin",
     "output_type": "stream",
     "text": [
      "enter you rregistered mobile no 809809\n"
     ]
    },
    {
     "name": "stdout",
     "output_type": "stream",
     "text": [
      "you have not entered a valid no.\n"
     ]
    }
   ],
   "source": [
    "mobile_no = 123456\n",
    "otp = 1234\n",
    "if mobile_no == input(\"enter you rregistered mobile no\"):\n",
    "    print(\"yes you are registered user\")\n",
    "    if otp == input(\"enter otp\"):\n",
    "        print(\"you logged in successfully\")\n",
    "    else:\n",
    "        print(\"opt is not correct\")\n",
    "else :\n",
    "    print(\"you have not entered a valid no.\")"
   ]
  },
  {
   "cell_type": "code",
   "execution_count": 24,
   "id": "80e314e3-acc4-4616-b6fa-8415fbe712f8",
   "metadata": {},
   "outputs": [
    {
     "name": "stdin",
     "output_type": "stream",
     "text": [
      "enter you rregistered mobile no 123456\n"
     ]
    },
    {
     "name": "stdout",
     "output_type": "stream",
     "text": [
      "you have not entered a valid no.\n"
     ]
    }
   ],
   "source": [
    "mobile_no = 123456\n",
    "otp = 1234\n",
    "#input expect a string not int therefor e even if enter 123456 still it not work\n",
    "if mobile_no == input(\"enter you registered mobile no\"):\n",
    "    print(\"yes you are registered user\")\n",
    "    if otp == input(\"enter otp\"):\n",
    "        print(\"you logged in successfully\")\n",
    "    else:\n",
    "        print(\"opt is not correct\")\n",
    "else :\n",
    "    print(\"you have not entered a valid no.\")"
   ]
  },
  {
   "cell_type": "code",
   "execution_count": 25,
   "id": "08939837-d5e0-4d82-99ea-d28588ac39b7",
   "metadata": {},
   "outputs": [
    {
     "name": "stdin",
     "output_type": "stream",
     "text": [
      "enter you rregistered mobile no 123456\n"
     ]
    },
    {
     "name": "stdout",
     "output_type": "stream",
     "text": [
      "yes you are registered user\n"
     ]
    },
    {
     "name": "stdin",
     "output_type": "stream",
     "text": [
      "enter otp 654\n"
     ]
    },
    {
     "name": "stdout",
     "output_type": "stream",
     "text": [
      "opt is not correct\n"
     ]
    }
   ],
   "source": [
    "mobile_no = 123456\n",
    "otp = 1234\n",
    "if mobile_no == int(input(\"enter you rregistered mobile no\")):\n",
    "    print(\"yes you are registered user\")\n",
    "    if otp == input(\"enter otp\"):\n",
    "        print(\"you logged in successfully\")\n",
    "    else:\n",
    "        print(\"opt is not correct\")\n",
    "else :\n",
    "    print(\"you have not entered a valid no.\")"
   ]
  },
  {
   "cell_type": "code",
   "execution_count": 26,
   "id": "baec30f6-6616-42f4-a2fa-485fa3d27691",
   "metadata": {},
   "outputs": [
    {
     "name": "stdin",
     "output_type": "stream",
     "text": [
      "enter you rregistered mobile no 123456\n"
     ]
    },
    {
     "name": "stdout",
     "output_type": "stream",
     "text": [
      "yes you are registered user\n"
     ]
    },
    {
     "name": "stdin",
     "output_type": "stream",
     "text": [
      "enter otp 1234\n"
     ]
    },
    {
     "name": "stdout",
     "output_type": "stream",
     "text": [
      "opt is not correct\n"
     ]
    }
   ],
   "source": [
    "mobile_no = 123456\n",
    "otp = 1234\n",
    "if mobile_no == int(input(\"enter you rregistered mobile no\")):\n",
    "    print(\"yes you are registered user\")\n",
    "    if otp == input(\"enter otp\"):\n",
    "        print(\"you logged in successfully\")\n",
    "    else:\n",
    "        print(\"opt is not correct\")\n",
    "else :\n",
    "    print(\"you have not entered a valid no.\")"
   ]
  },
  {
   "cell_type": "code",
   "execution_count": 27,
   "id": "c830614e-f3d4-445b-a9f8-904a06ba2212",
   "metadata": {},
   "outputs": [
    {
     "name": "stdin",
     "output_type": "stream",
     "text": [
      "enter you rregistered mobile no 3456\n"
     ]
    },
    {
     "name": "stdout",
     "output_type": "stream",
     "text": [
      "yes you are registered user\n"
     ]
    },
    {
     "name": "stdin",
     "output_type": "stream",
     "text": [
      "enter otp 1234\n"
     ]
    },
    {
     "name": "stdout",
     "output_type": "stream",
     "text": [
      "opt is not correct\n"
     ]
    }
   ],
   "source": [
    "mobile_no = {123456,3456,6789,65443,43221}\n",
    "otp = 1234\n",
    "if int(input(\"enter you rregistered mobile no\")) in mobile_no:\n",
    "    print(\"yes you are registered user\")\n",
    "    if otp == input(\"enter otp\"):\n",
    "        print(\"you logged in successfully\")\n",
    "    else:\n",
    "        print(\"opt is not correct\")\n",
    "else :\n",
    "    print(\"you have not entered a valid no.\")"
   ]
  },
  {
   "cell_type": "code",
   "execution_count": 32,
   "id": "9287e73d-ea6e-42ca-bc1a-38ddada819ee",
   "metadata": {},
   "outputs": [
    {
     "name": "stdout",
     "output_type": "stream",
     "text": [
      "2\n",
      "3\n",
      "4\n",
      "5\n",
      "6\n"
     ]
    }
   ],
   "source": [
    "l = [2,3,4,5,6]\n",
    "\n",
    "for i in l:\n",
    "    \n",
    "    print (i)"
   ]
  },
  {
   "cell_type": "code",
   "execution_count": 33,
   "id": "2756e94c-03ae-4b70-ac07-787538e470a3",
   "metadata": {},
   "outputs": [
    {
     "name": "stdout",
     "output_type": "stream",
     "text": [
      "4\n",
      "5\n",
      "6\n",
      "7\n",
      "8\n"
     ]
    }
   ],
   "source": [
    "l = [2,3,4,5,6]\n",
    "\n",
    "for i in l:\n",
    "    i+=2\n",
    "    print (i)"
   ]
  },
  {
   "cell_type": "code",
   "execution_count": 34,
   "id": "7ddabd36-b897-42d8-93e0-86c6309e9818",
   "metadata": {},
   "outputs": [
    {
     "name": "stdout",
     "output_type": "stream",
     "text": [
      "123456\n",
      "3456\n",
      "65443\n",
      "6789\n",
      "43221\n"
     ]
    }
   ],
   "source": [
    "\n",
    "\n",
    "l = [2,3,4,5,6]\n",
    "mobile_no = {123456,3456,6789,65443,43221}\n",
    "\n",
    "for i in mobile_no:\n",
    "    \n",
    "    print (i)"
   ]
  },
  {
   "cell_type": "code",
   "execution_count": 35,
   "id": "2fb7386a-4359-4ff3-a7a7-fd1d2880cfc1",
   "metadata": {},
   "outputs": [
    {
     "name": "stdout",
     "output_type": "stream",
     "text": [
      "123456\n",
      "3456\n",
      "yes user is registered\n",
      "65443\n",
      "6789\n",
      "43221\n"
     ]
    }
   ],
   "source": [
    "\n",
    "mobile_no = {123456,3456,6789,65443,43221}\n",
    "stud_no = 3456\n",
    "for i in mobile_no:\n",
    "    print (i)\n",
    "    if i == stud_no:\n",
    "        print(\"yes user is registered\")"
   ]
  },
  {
   "cell_type": "code",
   "execution_count": 40,
   "id": "eeeb7ded-4ac1-4faf-b77e-e0bb69237a58",
   "metadata": {},
   "outputs": [
    {
     "name": "stdout",
     "output_type": "stream",
     "text": [
      "123456\n",
      "3456\n",
      "yes user is registered\n",
      "yes stuent details available in DB\n",
      "student access details {'mobile_no': 3456, 'course': ['dsa', 'big data', 'ds']}\n",
      "65443\n",
      "6789\n",
      "43221\n"
     ]
    }
   ],
   "source": [
    "\n",
    "mobile_no = {123456,3456,6789,65443,43221}\n",
    "stud_no = 3456\n",
    "stud_details = {'mobile_no': 3456, 'course':['dsa','big data','ds']}\n",
    "for i in mobile_no:\n",
    "    print (i)\n",
    "    if i == stud_no:\n",
    "        print(\"yes user is registered\")\n",
    "        if i == stud_details['mobile_no']:\n",
    "            print(\"yes stuent details available in DB\")\n",
    "            print(\"student access details\", stud_details)"
   ]
  },
  {
   "cell_type": "code",
   "execution_count": 42,
   "id": "18168c2d-e2c8-4c91-bdc6-9ea514cde556",
   "metadata": {},
   "outputs": [
    {
     "name": "stdout",
     "output_type": "stream",
     "text": [
      "1\n",
      "2\n",
      "3\n",
      "Sumit\n",
      "Kumar\n"
     ]
    }
   ],
   "source": [
    "t = [1,2,3,'Sumit','Kumar']\n",
    "for i in t:\n",
    "    print(i)"
   ]
  },
  {
   "cell_type": "code",
   "execution_count": 44,
   "id": "18578941-554f-418d-9a0e-d0d5bae090bb",
   "metadata": {},
   "outputs": [
    {
     "name": "stdout",
     "output_type": "stream",
     "text": [
      "Sumit\n",
      "Kumar\n"
     ]
    }
   ],
   "source": [
    "t = [1,2,3,'Sumit','Kumar']\n",
    "for i in t:\n",
    "    if type(i) == str:\n",
    "        print(i)"
   ]
  },
  {
   "cell_type": "code",
   "execution_count": 45,
   "id": "3e37b9c8-4c7c-4ab7-ba4b-487809389e73",
   "metadata": {},
   "outputs": [
    {
     "name": "stdout",
     "output_type": "stream",
     "text": [
      "1\n",
      "2\n",
      "3\n"
     ]
    }
   ],
   "source": [
    "t = [1,2,3,'Sumit','Kumar']\n",
    "for i in t:\n",
    "    if type(i) == int:\n",
    "        print(i)"
   ]
  },
  {
   "cell_type": "code",
   "execution_count": 47,
   "id": "729c834f-0c15-45c4-bb36-11ea10302d27",
   "metadata": {},
   "outputs": [
    {
     "name": "stdout",
     "output_type": "stream",
     "text": [
      "[1, 2, 3]\n",
      "['Sumit', 'Kumar']\n"
     ]
    }
   ],
   "source": [
    "t = [1,2,3,'Sumit','Kumar']\n",
    "l_int = []\n",
    "l_str = []\n",
    "for i in t:\n",
    "    if type(i) == str:\n",
    "        l_str.append(i)\n",
    "    elif type(i) == int:\n",
    "        l_int.append(i)\n",
    "print(l_int)\n",
    "print(l_str)"
   ]
  },
  {
   "cell_type": "code",
   "execution_count": 48,
   "id": "40519025-9a91-4b70-a6f7-dbf336c68c7f",
   "metadata": {},
   "outputs": [
    {
     "name": "stdout",
     "output_type": "stream",
     "text": [
      "[1, 2, 3, 'Sumit', 'Kumar']\n"
     ]
    }
   ],
   "source": [
    "t = [1,2,3,'Sumit','Kumar']\n",
    "l_int = []\n",
    "l_str = []\n",
    "for i in t:\n",
    "    if type(i) == str:\n",
    "        l_str.append(i)\n",
    "    elif type(i) == int:\n",
    "        l_int.append(i)\n",
    "print(l_int + l_str)\n",
    "#print(l_str)"
   ]
  },
  {
   "cell_type": "code",
   "execution_count": 49,
   "id": "680377fe-182d-4f82-ab64-30398d866fa8",
   "metadata": {},
   "outputs": [
    {
     "data": {
      "text/plain": [
       "{3, 4, 5, 6, 7}"
      ]
     },
     "execution_count": 49,
     "metadata": {},
     "output_type": "execute_result"
    }
   ],
   "source": [
    "s = {3,4,5,6,7}\n",
    "s"
   ]
  },
  {
   "cell_type": "code",
   "execution_count": 51,
   "id": "90e4ece0-7a86-4b2b-a866-1ee22920978a",
   "metadata": {},
   "outputs": [
    {
     "name": "stdout",
     "output_type": "stream",
     "text": [
      "3\n",
      "4\n",
      "5\n",
      "6\n",
      "7\n"
     ]
    }
   ],
   "source": [
    "for i in s:\n",
    "    print(i)"
   ]
  },
  {
   "cell_type": "code",
   "execution_count": 54,
   "id": "7f33d5cd-5c7c-4922-b166-93db9d4250bb",
   "metadata": {},
   "outputs": [],
   "source": [
    "d = {\"name\": \"Sumit\", \"class\" : [\"big data\", \"data analytics\", \"system design\", 'DSA', 'Architecture'], 'mobile_no':123456,'email_id': 'Sumit@gmail.com'}\n"
   ]
  },
  {
   "cell_type": "code",
   "execution_count": 55,
   "id": "e3facbac-7b3e-4770-bf77-6f280653b393",
   "metadata": {},
   "outputs": [
    {
     "data": {
      "text/plain": [
       "{'name': 'Sumit',\n",
       " 'class': ['big data',\n",
       "  'data analytics',\n",
       "  'system design',\n",
       "  'DSA',\n",
       "  'Architecture'],\n",
       " 'mobile_no': 123456,\n",
       " 'email_id': 'Sumit@gmail.com'}"
      ]
     },
     "execution_count": 55,
     "metadata": {},
     "output_type": "execute_result"
    }
   ],
   "source": [
    "d"
   ]
  },
  {
   "cell_type": "code",
   "execution_count": 57,
   "id": "7a4c8b71-bdc9-447f-8985-97b8aaed04ca",
   "metadata": {},
   "outputs": [
    {
     "name": "stdout",
     "output_type": "stream",
     "text": [
      "Sumit\n",
      "['big data', 'data analytics', 'system design', 'DSA', 'Architecture']\n",
      "123456\n",
      "Sumit@gmail.com\n"
     ]
    }
   ],
   "source": [
    "for i in d.values():\n",
    "    print(i)"
   ]
  },
  {
   "cell_type": "code",
   "execution_count": 59,
   "id": "ef13f8ee-47d0-4c56-be4c-09b3d8847700",
   "metadata": {},
   "outputs": [
    {
     "name": "stdout",
     "output_type": "stream",
     "text": [
      "['big data', 'data analytics', 'system design', 'DSA', 'Architecture']\n"
     ]
    }
   ],
   "source": [
    "d = {\"name\": \"Sumit\", \"class\" : [\"big data\", \"data analytics\", \"system design\", 'DSA', 'Architecture'], 'mobile_no':123456,'email_id': 'Sumit@gmail.com'}\n",
    "\n",
    "for i in d.values():\n",
    "    if type(i) == list: \n",
    "        print(i)"
   ]
  },
  {
   "cell_type": "code",
   "execution_count": 67,
   "id": "27ed4580-b42e-4bd7-b705-f36254d87ffe",
   "metadata": {},
   "outputs": [
    {
     "name": "stdout",
     "output_type": "stream",
     "text": [
      "['big data', 'data analytics', 'system design', 'DSA', 'Architecture']\n",
      "yes\n"
     ]
    }
   ],
   "source": [
    "d = {\"name\": \"Sumit\", \"class\" : [\"big data\", \"data analytics\", \"system design\", 'DSA', 'Architecture'], 'mobile_no':123456,'email_id': 'Sumit@gmail.com'}\n",
    "\n",
    "for i in d.values():\n",
    "    if type(i) == list:\n",
    "        print(i)\n",
    "        if 'system design' in i:\n",
    "            print(\"yes\")"
   ]
  },
  {
   "cell_type": "code",
   "execution_count": null,
   "id": "42a4adcb-c689-44a8-a9bc-dbb2282cbd60",
   "metadata": {},
   "outputs": [],
   "source": []
  }
 ],
 "metadata": {
  "kernelspec": {
   "display_name": "Python 3 (ipykernel)",
   "language": "python",
   "name": "python3"
  },
  "language_info": {
   "codemirror_mode": {
    "name": "ipython",
    "version": 3
   },
   "file_extension": ".py",
   "mimetype": "text/x-python",
   "name": "python",
   "nbconvert_exporter": "python",
   "pygments_lexer": "ipython3",
   "version": "3.10.8"
  }
 },
 "nbformat": 4,
 "nbformat_minor": 5
}

{
 "cells": [
  {
   "cell_type": "code",
   "execution_count": 1,
   "id": "fb36d840-0d7f-48ae-a434-0759b4f55216",
   "metadata": {},
   "outputs": [],
   "source": [
    "n = 2\n",
    "p = 3\n"
   ]
  },
  {
   "cell_type": "code",
   "execution_count": 2,
   "id": "7fdb11cd-b83a-4901-820b-e3d8f68a68e5",
   "metadata": {},
   "outputs": [
    {
     "ename": "SyntaxError",
     "evalue": "incomplete input (859315528.py, line 1)",
     "output_type": "error",
     "traceback": [
      "\u001b[0;36m  Cell \u001b[0;32mIn[2], line 1\u001b[0;36m\u001b[0m\n\u001b[0;31m    def test(n,p):\u001b[0m\n\u001b[0m                  ^\u001b[0m\n\u001b[0;31mSyntaxError\u001b[0m\u001b[0;31m:\u001b[0m incomplete input\n"
     ]
    }
   ],
   "source": [
    "def test(n,p):"
   ]
  },
  {
   "cell_type": "code",
   "execution_count": 3,
   "id": "91309274-763a-4083-90c9-b3ab34deeb1d",
   "metadata": {},
   "outputs": [],
   "source": [
    "def test(n, p):\n",
    "    return(n**p)"
   ]
  },
  {
   "cell_type": "code",
   "execution_count": 4,
   "id": "951af115-4ef1-4754-9afd-8c7d671c4493",
   "metadata": {},
   "outputs": [
    {
     "data": {
      "text/plain": [
       "8"
      ]
     },
     "execution_count": 4,
     "metadata": {},
     "output_type": "execute_result"
    }
   ],
   "source": [
    "test(2,3)"
   ]
  },
  {
   "cell_type": "code",
   "execution_count": 5,
   "id": "f348db0f-7c23-4e54-bc63-f9aebd0cc9b2",
   "metadata": {},
   "outputs": [
    {
     "data": {
      "text/plain": [
       "<function __main__.<lambda>(n, p)>"
      ]
     },
     "execution_count": 5,
     "metadata": {},
     "output_type": "execute_result"
    }
   ],
   "source": [
    "lambda n,p : n**p"
   ]
  },
  {
   "cell_type": "code",
   "execution_count": 6,
   "id": "53bd1be3-62f1-4222-b867-516fb96dfd33",
   "metadata": {},
   "outputs": [],
   "source": [
    "a = lambda n,p : n**p"
   ]
  },
  {
   "cell_type": "code",
   "execution_count": 8,
   "id": "a4f26f87-b117-4666-a1de-126b1d003b6f",
   "metadata": {},
   "outputs": [
    {
     "data": {
      "text/plain": [
       "8"
      ]
     },
     "execution_count": 8,
     "metadata": {},
     "output_type": "execute_result"
    }
   ],
   "source": [
    "a(2,3)"
   ]
  },
  {
   "cell_type": "code",
   "execution_count": 9,
   "id": "691c9f84-fd3d-4cb7-949d-40b0229a9402",
   "metadata": {},
   "outputs": [],
   "source": [
    "add = lambda x,y : x+y"
   ]
  },
  {
   "cell_type": "code",
   "execution_count": 10,
   "id": "276a713b-1816-4643-a78e-db1234cb3af8",
   "metadata": {},
   "outputs": [
    {
     "data": {
      "text/plain": [
       "9"
      ]
     },
     "execution_count": 10,
     "metadata": {},
     "output_type": "execute_result"
    }
   ],
   "source": [
    "add(4,5)"
   ]
  },
  {
   "cell_type": "code",
   "execution_count": 11,
   "id": "b8f3e2b4-1d9e-43d0-921a-2e8986263ecb",
   "metadata": {},
   "outputs": [],
   "source": [
    "c_to_f = lambda c :(9/5)*c+32"
   ]
  },
  {
   "cell_type": "code",
   "execution_count": 12,
   "id": "f8bb3752-0154-40e2-8ecc-a377979210b1",
   "metadata": {},
   "outputs": [
    {
     "data": {
      "text/plain": [
       "93.2"
      ]
     },
     "execution_count": 12,
     "metadata": {},
     "output_type": "execute_result"
    }
   ],
   "source": [
    "c_to_f(34)"
   ]
  },
  {
   "cell_type": "code",
   "execution_count": 17,
   "id": "0020e308-0149-4906-91d6-3d4fbb2e6981",
   "metadata": {},
   "outputs": [],
   "source": [
    "max_two = lambda x,y : x if x> y else y"
   ]
  },
  {
   "cell_type": "code",
   "execution_count": 18,
   "id": "b98c59dd-d31e-4b9a-922f-3acda3051664",
   "metadata": {},
   "outputs": [
    {
     "data": {
      "text/plain": [
       "98"
      ]
     },
     "execution_count": 18,
     "metadata": {},
     "output_type": "execute_result"
    }
   ],
   "source": [
    "max_two(76,98)"
   ]
  },
  {
   "cell_type": "code",
   "execution_count": 19,
   "id": "3fdb637c-1780-4fca-9678-d715077f049a",
   "metadata": {},
   "outputs": [
    {
     "data": {
      "text/plain": [
       "78"
      ]
     },
     "execution_count": 19,
     "metadata": {},
     "output_type": "execute_result"
    }
   ],
   "source": [
    "max_two(78,9)"
   ]
  },
  {
   "cell_type": "code",
   "execution_count": 20,
   "id": "bf95ce71-173a-4772-896b-ac17cc8e004c",
   "metadata": {},
   "outputs": [],
   "source": [
    "s = \"pwskills\""
   ]
  },
  {
   "cell_type": "code",
   "execution_count": 21,
   "id": "182a8e06-b509-481b-a7b5-6a558634364e",
   "metadata": {},
   "outputs": [],
   "source": [
    "len_str = lambda s: len(s)"
   ]
  },
  {
   "cell_type": "code",
   "execution_count": 22,
   "id": "0b50a080-ad16-467b-97e9-537926daff61",
   "metadata": {},
   "outputs": [
    {
     "data": {
      "text/plain": [
       "8"
      ]
     },
     "execution_count": 22,
     "metadata": {},
     "output_type": "execute_result"
    }
   ],
   "source": [
    "len_str(s)"
   ]
  },
  {
   "cell_type": "code",
   "execution_count": null,
   "id": "7cafcc13-c89c-4fb2-953f-b3408ab2cff9",
   "metadata": {},
   "outputs": [],
   "source": []
  }
 ],
 "metadata": {
  "kernelspec": {
   "display_name": "Python 3 (ipykernel)",
   "language": "python",
   "name": "python3"
  },
  "language_info": {
   "codemirror_mode": {
    "name": "ipython",
    "version": 3
   },
   "file_extension": ".py",
   "mimetype": "text/x-python",
   "name": "python",
   "nbconvert_exporter": "python",
   "pygments_lexer": "ipython3",
   "version": "3.10.8"
  }
 },
 "nbformat": 4,
 "nbformat_minor": 5
}
